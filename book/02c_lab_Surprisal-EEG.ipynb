{
  "nbformat": 4,
  "nbformat_minor": 0,
  "metadata": {
    "colab": {
      "provenance": [],
      "collapsed_sections": []
    },
    "kernelspec": {
      "name": "python3",
      "display_name": "Python 3"
    },
    "language_info": {
      "name": "python"
    }
  },
  "cells": [
    {
      "cell_type": "markdown",
      "source": [
        "# 2C: Language model surprisal and EEG data\n",
        "\n",
        "_by Jelle Zuidema, September 2022_\n",
        "\n",
        "This notebook is based on _[Rasyan Ahmed's master thesis code](https://github.com/Rasyan/Thesis)_. Goal of the notebook is to introduce you to an interesting dataset (the EEG data collected by _[Broderick et al., 2018](https://doi.org/10.1016/j.cub.2018.01.080)_ from subjects listening to an audiobook), and to show an example of how next word probabilities as computed by a modern Deep Language Model can be successfully used to predict some aspect of language processing in the brain."
      ],
      "metadata": {
        "id": "ki8bLkXGxqVL"
      }
    },
    {
      "cell_type": "markdown",
      "source": [
        "### load required libraries"
      ],
      "metadata": {
        "id": "oDC12-CLBLzb"
      }
    },
    {
      "cell_type": "code",
      "source": [
        "!pip install mne==0.20.7"
      ],
      "metadata": {
        "id": "KIENrDchBVnE"
      },
      "execution_count": null,
      "outputs": []
    },
    {
      "cell_type": "code",
      "source": [
        "!pip install -q scipy #transformers "
      ],
      "metadata": {
        "id": "BawPpgTAx0N0"
      },
      "execution_count": null,
      "outputs": []
    },
    {
      "cell_type": "code",
      "source": [
        "import scipy.io as sio\n",
        "import numpy as np\n",
        "\n",
        "import mne\n",
        "from mne.decoding import ReceptiveField\n",
        "from sklearn.model_selection import KFold\n",
        "from sklearn.preprocessing import StandardScaler\n",
        "\n",
        "from tqdm.auto import tqdm\n",
        "\n",
        "import random"
      ],
      "metadata": {
        "id": "JEXizmx3BeO0"
      },
      "execution_count": null,
      "outputs": []
    },
    {
      "cell_type": "code",
      "source": [
        "import matplotlib.pyplot as plt\n",
        "import numpy as np\n",
        "import math"
      ],
      "metadata": {
        "id": "hPQj9iUnLmAM"
      },
      "execution_count": null,
      "outputs": []
    },
    {
      "cell_type": "markdown",
      "source": [
        "### make datasets available"
      ],
      "metadata": {
        "id": "zKGOPRRMBoKC"
      }
    },
    {
      "cell_type": "markdown",
      "source": [
        "Add shortcuts to drive: (JZ: how do these become shortcuts rather than downloads?)\n",
        "- [Subject19.zip](https://drive.google.com/file/d/1ZWopKDEf1FPDciVPATcUrAkF8XY0WgK6/view?usp=sharing)\n",
        "- [Stimuli.zip](https://drive.google.com/file/d/1c04Z8YNUjoRkGfNu2zGQDM6gFpRs-Cab/view?usp=sharing)\n",
        "- [vectors.zip](https://drive.google.com/file/d/1yF3PK94RFRxZyMuQHHOk8iS7yZMMJ15j/view?usp=sharing)\n",
        "- [results.zip](https://drive.google.com/file/d/1lXNhl3WUK48Juj0oA-itR_tkONdlK2G4/view?usp=sharing)"
      ],
      "metadata": {
        "id": "_n4p4mVLx03k"
      }
    },
    {
      "cell_type": "code",
      "execution_count": null,
      "metadata": {
        "id": "3z3YmCyHxl5-"
      },
      "outputs": [],
      "source": [
        "from google.colab import drive\n",
        "drive.mount('/content/drive')"
      ]
    },
    {
      "cell_type": "code",
      "source": [
        "!unzip -qq '/content/drive/MyDrive/Subject19.zip'\n",
        "!unzip -qq '/content/drive/MyDrive/Stimuli.zip'\n",
        "!unzip -qq '/content/drive/MyDrive/vectors.zip'\n",
        "!unzip -qq '/content/drive/MyDrive/results.zip'"
      ],
      "metadata": {
        "id": "Pc3u72cpx-Ru"
      },
      "execution_count": null,
      "outputs": []
    },
    {
      "cell_type": "code",
      "source": [
        "# Alternatively, download the files above and upload them to colab/wherever you run this notebook \n",
        "#!unzip -qq 'Subject19.zip'\n",
        "#!unzip -qq 'Stimuli.zip'\n",
        "#!unzip -qq 'vectors.zip'\n",
        "#!unzip -qq 'results.zip'"
      ],
      "metadata": {
        "id": "tvesjJuLEcrb"
      },
      "execution_count": null,
      "outputs": []
    },
    {
      "cell_type": "markdown",
      "source": [
        "#Loading and preprocessing the EEG data"
      ],
      "metadata": {
        "id": "hV4ztfj6_Jrq"
      }
    },
    {
      "cell_type": "code",
      "source": [
        "#@title Helper function 1: load_eeg_and_dissimilarity_vector()\n",
        "\n",
        "def load_eeg_and_disimilarlity_vector(sim, method):\n",
        "\n",
        "    # flatten the similarity values (from 3D list to 1D list)\n",
        "    flat_sim = [word for sentence in [sentence for run in sim for sentence in run] for word in sentence]\n",
        "    \n",
        "    # normalize to the values of the broderick similarity values.\n",
        "    normalise = norm/np.mean(flat_sim)\n",
        "     \n",
        "    # \n",
        "    raw_subs = []\n",
        "    ms_subs = []\n",
        "    dis_vector_subs = []\n",
        "\n",
        "    for sub in tqdm(subs):  # for each subject\n",
        "        raw = []\n",
        "        ms = []\n",
        "        dis_vector = []\n",
        "        #print('Load eeg & dissimilarity values: subject: ', sub, \"/\", len(subs), end = \"\\r\", flush=True)\n",
        "\n",
        "        for i in range(1,21):  # for each run\n",
        "\n",
        "            # load data\n",
        "            data = sio.loadmat(eeg_location + str(sub) + \"/Subject\" + str(sub) + \"_Run\" + str(i) +  \".mat\")\n",
        "            raw_i = data['eegData'].T\n",
        "            ms_i = data['mastoids'].T\n",
        "            loc = stimuli_location + \"/Run\" + str(i) + \".mat\"\n",
        "            words = sio.loadmat(loc)\n",
        "\n",
        "            # create list of word similaritys in order and normalise.\n",
        "            norm_flat_sim = [simz * normalise for sentence in sim[i-1] for simz in sentence]\n",
        "\n",
        "            if len(norm_flat_sim)!= len(words['onset_time']):\n",
        "                print(sub,i, len(norm_flat_sim), len(words['onset_time']))\n",
        "\n",
        "            # create empty vector of same size as the eeg.\n",
        "            dis_vector_i = np.zeros((1,raw_i.shape[1]))\n",
        "            \n",
        "            if method == 'random_loc': \n",
        "                random_locations = random.sample(range(0,raw_i.shape[1]), len(norm_flat_sim))\n",
        "            \n",
        "            #print(asdfasdfasdfasdf)\n",
        "            # for each word, find its onset, and then place it there in the empty vector.\n",
        "            for j in range(len(norm_flat_sim)):\n",
        "                \n",
        "                if method == 'random_loc':\n",
        "                    on = random_locations[j]\n",
        "                else: \n",
        "                    on = int(np.floor(words['onset_time'][j] * sfreq))\n",
        "                    \n",
        "                dis_vector_i[0][on] = (1-norm_flat_sim[j]) \n",
        "            \n",
        "\n",
        "            \n",
        "                # This is also where the random vectors and such are created. \n",
        "                # comment out to do something else than the normal method\n",
        "\n",
        "\n",
        "                # dis_vector_i[0][on] = 0.33820258789060476                     # one at onset\n",
        "                # dis_vector_i[0][on] = random.uniform(0, 1)  # random value on onset\n",
        "\n",
        "    #         for i in range(1,len(dis_vector_i[0])):          # value at specific or all times\n",
        "    #             dis_vector_i[0][i] = 1\n",
        "\n",
        "\n",
        "            raw.append(raw_i)     \n",
        "            dis_vector.append(dis_vector_i)\n",
        "            ms.append(ms_i)\n",
        "\n",
        "        raw_subs.append(raw)\n",
        "        ms_subs.append(ms)\n",
        "        dis_vector_subs.append(dis_vector)\n",
        "        \n",
        "    print('Load eeg & dissimilarity values: Done')\n",
        "    return(dis_vector_subs,ms_subs,raw_subs)\n"
      ],
      "metadata": {
        "cellView": "form",
        "id": "oqRz37Mk_XzX"
      },
      "execution_count": null,
      "outputs": []
    },
    {
      "cell_type": "code",
      "source": [
        "# define location, filename, subject number and number of segments in the dataset\n",
        "\n",
        "# location of files\n",
        "eeg_location = \"Subject\"            # \"/content/drive/MyDrive/Subject\" # -- check what these should be\n",
        "stimuli_location = \"Stimuli/Text\"   # \"/content/drive/MyDrive/Stimuli/Text\"\n",
        "vector_loc = \"vectors/\"             # \"/content/drive/MyDrive/vectors/\"\n",
        "results_folder = 'results/'         # \"/content/drive/MyDrive/results/\"\n",
        "\n",
        "# details of the dataset we will use\n",
        "subs = [19]\n",
        "n_runs = 20 # number of runs (which we will call \"segments\" here)\n",
        "\n",
        "# frequency of the EEG data\n",
        "sfreq = 128\n",
        "\n",
        "# number of channels\n",
        "n_channels = 128\n",
        "\n",
        "# Define the delays that we will use in the receptive field (0 = event, so this means we take into account upto 0.6seconds after event)\n",
        "tmin, tmax = 0, .6\n",
        "\n",
        "# the mean similarity for the broderick method, everything is normalised to this.\n",
        "norm = 0.33820258789060476"
      ],
      "metadata": {
        "id": "FZzPEWmUAsSg"
      },
      "execution_count": null,
      "outputs": []
    },
    {
      "cell_type": "code",
      "source": [
        "vector = 'bert_4_False' # use word likehoods obtained from a Bert model, with access to 4 prior words and no access to future context\n",
        "similarity_location = vector_loc +  vector + '.npy'\n",
        "sim = np.load(similarity_location, allow_pickle=True)\n",
        "dis_vector, raw_mastoids, raw_eeg = load_eeg_and_disimilarlity_vector(sim, vector)"
      ],
      "metadata": {
        "id": "7QEHo2lcx_Dv",
        "colab": {
          "base_uri": "https://localhost:8080/",
          "height": 66,
          "referenced_widgets": [
            "3eff5aee9cd24a92a06bf21589618747",
            "43842e8043724ddfaa1f323a0f339a60",
            "de1f911e44c1414e986b9f4506177744",
            "4c57fccc8f624572b3e263dc41dc9a96",
            "95d1909ea66f409996f377f13ab7af56",
            "8e7c14cc42bc44958c64c5b6397414f3",
            "6beef4e9804b4e629437861925197307",
            "8b62dc91496b4560ba1b382ad9ce020b",
            "55acea6a1de84637ac88c39dfdf19ee2",
            "cc117e9c05d5467d9d6bfdb26cba1f9a",
            "beeedc1d7c7c47e79727e05a583af5cf"
          ]
        },
        "outputId": "67df4cb2-bc13-416d-bb34-b7520ebe4530"
      },
      "execution_count": null,
      "outputs": [
        {
          "output_type": "display_data",
          "data": {
            "text/plain": [
              "  0%|          | 0/1 [00:00<?, ?it/s]"
            ],
            "application/vnd.jupyter.widget-view+json": {
              "version_major": 2,
              "version_minor": 0,
              "model_id": "3eff5aee9cd24a92a06bf21589618747"
            }
          },
          "metadata": {}
        },
        {
          "output_type": "stream",
          "name": "stdout",
          "text": [
            "Load eeg & dissimilarity values: Done\n"
          ]
        }
      ]
    },
    {
      "cell_type": "code",
      "source": [
        "#@title Helper function 2: process_eeg()\n",
        "\n",
        "def process_eeg(dis_vector, raw_mastoids, raw_eeg, var_limit): \n",
        "    \n",
        "    fixes = 0\n",
        "    fixes2 = 0\n",
        "    subject_data = []\n",
        "    for sub in tqdm(subs):\n",
        "        #print('Process eeg: subject: ', sub, \"/\", len(subs), end = \"\\r\", flush=True)\n",
        "        raws = np.empty((20,), dtype=object)\n",
        "        ms = np.empty((20,), dtype=object)\n",
        "        dv = np.empty((20,), dtype=object)\n",
        "        filterd = np.empty((20,), dtype=object)\n",
        "        data = {}\n",
        "        for i in range(1,21):\n",
        "\n",
        "            # load data of the prev cell\n",
        "            raws[i-1] = raw_eeg[subs.index(sub)][i-1].T\n",
        "            ms[i-1] = raw_mastoids[subs.index(sub)][i-1].T\n",
        "            dv[i-1] = dis_vector[subs.index(sub)][i-1].T\n",
        "\n",
        "\n",
        "            # add mastoids as the last two channels.\n",
        "            raw = np.concatenate((raw_eeg[subs.index(sub)][i-1],raw_mastoids[subs.index(sub)][i-1]))\n",
        "            \n",
        "            \n",
        "            montage = mne.channels.make_standard_montage('biosemi128');\n",
        "            montage.ch_names = montage.ch_names + ['M1', 'M2']\n",
        "            montage.dig = montage.dig + [montage.dig[4],montage.dig[5]]\n",
        "            \n",
        "\n",
        "            info = mne.create_info(montage.ch_names[:130], sfreq, 'eeg', montage=montage)\n",
        "            raw = mne.io.RawArray(raw, info)\n",
        "            raw.add_channels\n",
        "\n",
        "\n",
        "            # remove the standerd reference mne sets upon it.\n",
        "            raw, _ = mne.set_eeg_reference(raw, [])\n",
        "\n",
        "            # reference instead using the average of the last two channels (mastoids)\n",
        "            raw, _ = mne.set_eeg_reference(raw, montage.ch_names[128:130])\n",
        "\n",
        "            # bandpass filter the data without the mastoids\n",
        "            #raw.info['bad'] = montage.ch_names[128:130]\n",
        "            raw = raw.drop_channels(montage.ch_names[128:130])\n",
        "            raw = raw.filter(1,8)\n",
        "            \n",
        "            test = raw.get_data()\n",
        "        \n",
        "            var = [np.var(channel[1280:-1280]) for channel in test]\n",
        "            raw.info['bads'] = np.array(montage.ch_names[:128])[np.array(var[:128])>var_limit]\n",
        "            fixes2 += raw.info['bads'].size\n",
        "            if raw.info['bads'].size > 0: fixes +=1\n",
        "            raw.interpolate_bads()\n",
        "            \n",
        "            #print(raw.get_data.size())\n",
        "            filt = raw.get_data()\n",
        "            filterd[i-1] = filt[:128].T   \n",
        "\n",
        "        data['raw'] = raws\n",
        "        data['ms'] = ms\n",
        "        data['dv'] = dv\n",
        "        data['filterd'] = filterd\n",
        "        subject_data.append(data)\n",
        "    \n",
        "    print('Process eeg: Done')\n",
        "    print(\"Total fixes: \", fixes)\n",
        "    print(\"Total fixes: \", fixes2)\n",
        "    return(subject_data)\n"
      ],
      "metadata": {
        "cellView": "form",
        "id": "ffjDduSyIWZ_"
      },
      "execution_count": null,
      "outputs": []
    },
    {
      "cell_type": "code",
      "source": [
        "# Run standard EEG preprocessing on the dataset to filter signal outside the 1-8Hz bandwidth and remove noise in the data\n",
        "data = process_eeg(dis_vector, raw_mastoids, raw_eeg, 100000)"
      ],
      "metadata": {
        "id": "dj-oc0WoIoEc"
      },
      "execution_count": null,
      "outputs": []
    },
    {
      "cell_type": "markdown",
      "source": [
        "Now that we have loaded and processed the data, it is time to have a look at the original EEG measurements and the effects of preprocessing. The original data is available as data['raw']; the filter data as data['filterd'].\n"
      ],
      "metadata": {
        "id": "_VbMd6TFJSqh"
      }
    },
    {
      "cell_type": "code",
      "source": [
        "the_data = data[0]\n",
        "eeg_before = the_data['raw']\n",
        "eeg_after = the_data['filterd']"
      ],
      "metadata": {
        "id": "QzFUTTXyJwMV"
      },
      "execution_count": null,
      "outputs": []
    },
    {
      "cell_type": "code",
      "source": [
        "#let's decide what parts of the data to look at\n",
        "which_segments = range(10,12) # let's focus on a middle piece, say segments 10,11 and 12. \n",
        "channel_number = 20 # let's focus on one channel\n",
        "\n",
        "ourchannel_eeg_after = [(eeg_after[i]).transpose()[channel_number] for i in which_segments] #range(n_segments)]\n",
        "ourchannel_eeg_before = [(eeg_before[i]).transpose()[channel_number] for i in which_segments] #in range(n_segments)]\n",
        "\n",
        "timeseries_before = np.concatenate(ourchannel_eeg_before)\n",
        "timeseries_after = np.concatenate(ourchannel_eeg_after)\n"
      ],
      "metadata": {
        "id": "2P7h8_AJKgde"
      },
      "execution_count": null,
      "outputs": []
    },
    {
      "cell_type": "code",
      "source": [
        "# and plot the timeseries\n",
        "plt.plot(timeseries_before[9000:9100])"
      ],
      "metadata": {
        "colab": {
          "base_uri": "https://localhost:8080/",
          "height": 282
        },
        "id": "CEKt2XygLXUO",
        "outputId": "91adb58a-cc18-4d30-ba30-1546fdb1afe1"
      },
      "execution_count": null,
      "outputs": [
        {
          "output_type": "execute_result",
          "data": {
            "text/plain": [
              "[<matplotlib.lines.Line2D at 0x7feaf3952150>]"
            ]
          },
          "metadata": {},
          "execution_count": 39
        },
        {
          "output_type": "display_data",
          "data": {
            "text/plain": [
              "<Figure size 432x288 with 1 Axes>"
            ],
            "image/png": "[encoded data removed]"
          },
          "metadata": {
            "needs_background": "light"
          }
        }
      ]
    },
    {
      "cell_type": "markdown",
      "source": [
        "# Assignment 1\n",
        "\n",
        "Plot some fragments from both the before and after timeseries, and investigate -- in rough outline -- what the preprocessing has done to the data. "
      ],
      "metadata": {
        "id": "QtGi7tFoNIps"
      }
    },
    {
      "cell_type": "markdown",
      "source": [
        "# Training the TRFs (or not)"
      ],
      "metadata": {
        "id": "U0FIKd2IqHeK"
      }
    },
    {
      "cell_type": "code",
      "source": [
        "#@title Helper functions 3 & 4: TRF() and train()\n",
        "\n",
        "def TRF(subject_data, start=0, end=1, save=None, shuffle=False, second_folder = 'randoms/'):\n",
        "    \n",
        "    for run in tqdm(range(start,end)):\n",
        "    \n",
        "        #print('run', run)\n",
        "        scores_subs=[]\n",
        "        coefs_subs=[]\n",
        "        error_subs=[]\n",
        "        for sub in tqdm(subs):\n",
        "\n",
        "            # run value as random seed. makes reproduction possible if we need extra info later on.\n",
        "            random.seed(run)\n",
        "            data = subject_data[subs.index(sub)]\n",
        "            dv = np.vstack(data['dv'])\n",
        "\n",
        "            if shuffle:\n",
        "                # create a list of all disimilarity values.\n",
        "                ddv = np.array([d for d in dv if d>0])\n",
        "\n",
        "                # shuffle this list.\n",
        "                random.shuffle(ddv)\n",
        "\n",
        "                # for each non 0 in real dissimilarity vector\n",
        "                i = 0\n",
        "                for j in range(len(dv)):\n",
        "                    if dv[j] > 0:\n",
        "\n",
        "                        # add the i element of the shuffled list of dissimilarity values.\n",
        "                        dv[j] = ddv[i]\n",
        "                        i+=1\n",
        "\n",
        "            Y = np.vstack(data['filterd']) \n",
        "\n",
        "            # normalisation method. basicly just subtracts the average and devides by the standerd deviations\n",
        "            scaler = StandardScaler()           # initalise scaler\n",
        "            scaler.fit(Y)                       # finds the average and sd\n",
        "            Y = scaler.transform(Y)      # scales each value.\n",
        "\n",
        "\n",
        "            #Initialize the model\n",
        "            rf = ReceptiveField(tmin, tmax, sfreq, feature_names=['envelope'],\n",
        "                                estimator=1., scoring='corrcoef')\n",
        "\n",
        "            # calculate how many items there are between the delays\n",
        "            n_delays = int((tmax - tmin) * sfreq) + 2\n",
        "\n",
        "            # setup 5fold CV\n",
        "            n_splits = 5\n",
        "            cv = KFold(n_splits)\n",
        "\n",
        "            DV = np.array([dv[i-78:i,] for i in range(78,dv.shape[0])])\n",
        "\n",
        "            # Simple linear regression for each time step using 5fold CV\n",
        "            coefs = np.zeros((n_splits, n_channels, n_delays))\n",
        "            scores = np.zeros((n_splits, n_channels))\n",
        "\n",
        "            err= []\n",
        "            # Iterate through splits, fit the model, and predict/test on held-out data\n",
        "            for ii, (train, test) in enumerate(cv.split(dv)):  # split the data 4:1 (train:test) for each different way.\n",
        "                #print('split %s / %s' % (ii + 1, n_splits))\n",
        "\n",
        "                rf.fit(dv[train], Y[train])\n",
        "\n",
        "                scores[ii] = rf.score(dv[test], Y[test])\n",
        "                # coef_ is shape (n_outputs, n_features, n_delays). we only have 1 feature\n",
        "                coefs[ii] = rf.coef_[:, 0, :]\n",
        "\n",
        "                # calculate errors\n",
        "\n",
        "                W = np.flip(coefs[ii],1) # define Weights as the flipped coefs\n",
        "                #print(test)\n",
        "\n",
        "                test=test[test>=78] # remove the first 78 values, as we dont have full data for them\n",
        "                test=test -78 \n",
        "                #print(test)\n",
        "                DV2 = DV[test] # select only the dissimilarity values for the test set\n",
        "                real = Y[test]\n",
        "\n",
        "                DVs = np.sum(DV2,1) \n",
        "                mask = [s for s in range(0,len(DV2)) if DVs[s]!=0]\n",
        "                DV2 = DV2[mask] # remove all test cases with 0 dv values\n",
        "                real = real[mask]\n",
        "\n",
        "                pred = np.array([W @ s for s in DV2]).squeeze() # calculate predicted value.\n",
        "\n",
        "                m = np.mean(real,0)\n",
        "                SStot = np.sum((real-m)**2,0)\n",
        "                SSreg = np.sum((pred-m)**2,0)\n",
        "                SSres = np.sum((real-pred)**2,0)\n",
        "                r2 = 1-(SSres/SStot)\n",
        "                errors = np.array([SStot,SSreg,SSres,r2])\n",
        "\n",
        "                err.append(errors)\n",
        "\n",
        "            times = rf.delays_ / float(rf.sfreq)\n",
        "\n",
        "            scores_subs.append(scores)\n",
        "            coefs_subs.append(coefs)\n",
        "            error_subs.append(err)\n",
        "        \n",
        "        if shuffle==True and save and ((end-start)>1):\n",
        "            # save results\n",
        "            saveFunc(loc, run_string , scores_subs, coefs_subs, error_subs, length)\n",
        "    \n",
        "    return(scores_subs, coefs_subs, error_subs) # save last run results\n",
        "\n",
        "def train(vector, preprocess = 100000, backup = 'pearson', start=0, end=1, save=True, shuffle=False):\n",
        "    \n",
        "    if vector == 'random_loc':\n",
        "        similarity_location = vector_loc +  backup + '.npy'\n",
        "    else:\n",
        "        similarity_location = vector_loc +  vector + '.npy'\n",
        "    \n",
        "    # loads the similarity values \n",
        "    sim = np.load(similarity_location, allow_pickle=True)\n",
        "    \n",
        "    dis_vector, raw_mastoids, raw_eeg = load_eeg_and_disimilarlity_vector(sim, vector)\n",
        "    data = process_eeg(dis_vector, raw_mastoids, raw_eeg, preprocess)\n",
        "    \n",
        "    scores_subs, coefs_subs, error_subs = TRF(data)\n",
        "    #scores_subs, coefs_subs, error_subs = TRF(data, start=3, end=100, save=save, shuffle=True, second_folder)\n",
        "    \n",
        "    if end-start > 1:\n",
        "        combine_multi_runs()\n",
        "    \n",
        "    if save:\n",
        "        if vector == 'pearson':\n",
        "            run_string = vector + '_' + str(preprocess)\n",
        "            \n",
        "        elif vector[:4] == 'bert':\n",
        "            run_string = vector + '_' + str(preprocess)\n",
        "            \n",
        "        elif vector == 'static':\n",
        "            run_string = vector + '_' + str(preprocess)\n",
        "        \n",
        "        elif vector == 'random_loc':\n",
        "            run_string = vector + '(' + backup + \")\" + '_' + str(preprocess)\n",
        "        \n",
        "        elif shuffle:\n",
        "            run_string = 'shuffle(' + vector + ')' + '_' + str(preprocess)\n",
        "        \n",
        "        saveFunc(results_folder, run_string, scores_subs, coefs_subs, error_subs, end-start)\n",
        "\n",
        "    return(scores_subs, coefs_subs, error_subs)\n",
        "    \n",
        "#scores_subz, coefs_subz, error_subz = train(vector_loc, method,  999999999999999999)\n"
      ],
      "metadata": {
        "cellView": "form",
        "id": "8gBXMa5aMeVX"
      },
      "execution_count": null,
      "outputs": []
    },
    {
      "cell_type": "markdown",
      "source": [
        "We can now train a temporal response function (TRF) by using helper functions 3 and 4. This is, however, quite time consuming. To save time, we will used the precomputed TRF's that are available in the results folder (after you have unzipped results.zip)."
      ],
      "metadata": {
        "id": "_SxKqXOHMmqj"
      }
    },
    {
      "cell_type": "markdown",
      "source": [
        "# Plotting the obtained TRF coefficients"
      ],
      "metadata": {
        "id": "Jdbr2r6AqSiz"
      }
    },
    {
      "cell_type": "code",
      "source": [
        "#@title Helper function 5: plot_curve()\n",
        "\n",
        "def plot_curve(ch,sd,ax,title):\n",
        "    i = 0\n",
        "    j = 0\n",
        "    for tup in plot_data:\n",
        "        if tup[3] == \"single\":\n",
        "            ax.plot(times,coefs[i][ch], label= tup[1])\n",
        "            i+=1\n",
        "\n",
        "        elif tup[3] == \"multi\":\n",
        "            ax.plot(times,multi_coefs_avg[j][ch], label = tup[1] + \" mean\")\n",
        "            ax.fill_between(times,multi_coefs_avg[j][ch]-multi_coefs_std3[j][ch]*sd, multi_coefs_avg[j][ch]+multi_coefs_std3[j][ch]*sd, alpha=0.2, label =tup[1] + \" \"+ str(sd) + \"sd\")\n",
        "            j+=0\n",
        "    ax.axhline(0, ls='--', color='black')\n",
        "    #ax.set_ylim(-0.09 ,0.05)\n",
        "    ax.set(title=title)"
      ],
      "metadata": {
        "cellView": "form",
        "id": "UqoyS8_lNuJ4"
      },
      "execution_count": null,
      "outputs": []
    },
    {
      "cell_type": "code",
      "source": [
        "# select the data to use in plotting \n",
        "\n",
        "# select data to load\n",
        "sub = np.array([19])\n",
        "sun = [1]\n",
        "plot_data = []\n",
        "\n",
        "results_folder = 'results/'\n",
        "#second_folder = 'randoms/'\n",
        "\n",
        "# start/ end time of relevant time period of word onset.\n",
        "tmin = 0\n",
        "tmax = 0.6\n",
        "\n",
        "types = ['coefs', 'scores','errors']\n",
        "\n",
        "# change tuples as required. form: file name, legend name, colour, single or multi \n",
        "\n",
        "# Broderick\n",
        "plot_data.append((\"pearson_100000.npy\",'Broderick (1-8Hz)',\"b\", \"single\"))\n",
        "\n",
        "# static\n",
        "#plot_data.append((\"static_100000.npy\",\"static\",\"brown\", \"single\"))\n",
        "\n",
        "# bert_4_false\n",
        "plot_data.append((\"bert_4_False_100000.npy\",\"b4\", \"red\", \"single\"))"
      ],
      "metadata": {
        "id": "c104F8YLOY67"
      },
      "execution_count": null,
      "outputs": []
    },
    {
      "cell_type": "code",
      "source": [
        "#now indeed load that data\n",
        "\n",
        "coefs = []\n",
        "#errors = []\n",
        "scores = []\n",
        "\n",
        "for tup in plot_data:\n",
        "    \n",
        "    if tup[3] == \"single\":\n",
        "        # load the data of the subjects you want to include + square scores to get r2\n",
        "        coef = np.load(results_folder + \"coefs/\" + tup[0])[sub-1]\n",
        " #       error = np.load(results_folder + \"errors/\" + tup[0])[sub-1]\n",
        "        score = np.load(results_folder + \"scores/\" + tup[0])[sub-1]**2\n",
        "        score = np.nan_to_num(score)\n",
        "\n",
        "        # mean out the subject axis\n",
        "        coef = coef.mean(axis=0)\n",
        "  #      error = error.mean(axis=0)\n",
        "        score = score.mean(axis=0)\n",
        "\n",
        "        # mean out the cross validation axis\n",
        "        coef = coef.mean(axis=0)\n",
        "   #     error = error.mean(axis=0)\n",
        "        score = score.mean(axis=0)\n",
        "\n",
        "        coefs.append(coef)\n",
        "    #    errors.append(error)\n",
        "        scores.append(score)\n",
        "\n",
        "n_channels = coefs[0].shape[0]\n",
        "n_points =  coefs[0].shape[1]\n",
        "\n",
        "# define a n_points long array that defines what time a coefficent belongs to.\n",
        "# used as the x axis in plotmtrfs.\n",
        "times = np.array(range(0,n_points))/ 128\n",
        "\n",
        "# create the mne info file with the right montage (layout of channels)\n",
        "# mne is a library we use to process EEG files, or in this case visualise them.\n",
        "montage =  mne.channels.make_standard_montage('biosemi128');\n",
        "#montage.selection = montage.selection[:n_channels]\n",
        "info = mne.create_info(montage.ch_names[:n_channels], n_channels, 'eeg', montage=montage);"
      ],
      "metadata": {
        "id": "p7jt3FDCPGDX"
      },
      "execution_count": null,
      "outputs": []
    },
    {
      "cell_type": "code",
      "source": [
        "# And plot the coefficient of the Temporal Response Functions found for three different models of word suprisal.\n",
        "sd = 1.6\n",
        "pl =1\n",
        "nrow = 3\n",
        "ncol = 2\n",
        "widths = [0,3,0.1,0.1]\n",
        "heights = [0,33,0.33,0.33]\n",
        "# gr = grid.GridSpec(wspace= , hspace= width_ratios= , height_ratios= )\n",
        "gri = {'wspace':0.5,'hspace':0.4,'width_ratios':[1,0.1]}\n",
        "fig, axes = plt.subplots(nrow,ncol, squeeze = False, gridspec_kw = gri)\n",
        "plot_curve(84,sd,axes[0,0],'fz')\n",
        "plot_curve(0,sd,axes[1,0],'cz')\n",
        "plot_curve(20,sd,axes[2,0],'pz')\n",
        "axes[0,1].axis(\"off\")\n",
        "axes[1,1].axis(\"off\")\n",
        "axes[2,1].axis(\"off\")\n",
        "handles, labels = axes[0,0].get_legend_handles_labels()\n",
        "fig.legend(handles, labels, loc='upper right', bbox_to_anchor=(1, 1))\n",
        "fig.show();"
      ],
      "metadata": {
        "colab": {
          "base_uri": "https://localhost:8080/",
          "height": 295
        },
        "id": "smk4MXyMODlx",
        "outputId": "eb9db905-84f7-456f-a531-08dbeed5493d"
      },
      "execution_count": null,
      "outputs": [
        {
          "output_type": "display_data",
          "data": {
            "text/plain": [
              "<Figure size 432x288 with 6 Axes>"
            ],
            "image/png": "[encoded data removed]"
          },
          "metadata": {
            "needs_background": "light"
          }
        }
      ]
    },
    {
      "cell_type": "markdown",
      "source": [
        "# Assignment 2\n",
        "\n",
        "Study the temporal response functions you find for a model that uses Broderick's model of word surprisal versus one that uses the Bert model (with 4 words prior context). Do you observe the N400 component (negative polarization approximately 400 ms after word onset) in some of the channels? Are those the relevant channels? Do you find differences between the two models? \n",
        "\n",
        "Now consider the results you get with a model that simple assign uniform suprisal values to all words (i.e., it does not distinguish between suprising or unsurpring words): the data which you can find in the \"static_100000.npy\" file. Does that model change your assessment of the performance of the Broderick and Bert models?\n",
        "\n",
        "\n"
      ],
      "metadata": {
        "id": "9nNckNwzSdqq"
      }
    },
    {
      "cell_type": "markdown",
      "source": [
        "# Extra\n",
        "\n",
        "Below you find some code to plot to create brain plots; this code is provided as it might be useful later on, but it is currently still undocumented and needs to be studied in some detail to be sure about what we are plotting..."
      ],
      "metadata": {
        "id": "7HrJzHcMU7hw"
      }
    },
    {
      "cell_type": "code",
      "source": [
        "#@title Helper function 6: plot_brain()\n",
        "\n",
        "def plot_brain(a1, b1, sel, ax, the_title):\n",
        "    # plot_coefs = np.tile(np.expand_dims(scores[1],1),78) - np.tile(np.expand_dims(scores[0],1),78)\n",
        "    plot_coefs = coefs[sel]\n",
        "\n",
        "    #c = np.mean([a1,b1])\n",
        "    a = times> a1\n",
        "    b = times< b1\n",
        "    selection = np.flatnonzero(a & b)\n",
        "\n",
        "    s1 = plot_coefs[:,0].shape[0]\n",
        "    tmp = np.zeros((len(selection),s1))\n",
        "    for i in range(len(selection)):\n",
        "        tmp[i] = plot_coefs[:,selection[i]]\n",
        "\n",
        "    mean_plot = np.mean(tmp,0)\n",
        "     \n",
        "    max_coef = plot_coefs.max()\n",
        "    min_coef = plot_coefs.min()\n",
        "    # Make a topographic map of coefficients for a given delay (see Fig 2C in [1])\n",
        "    #ix_plot = np.argmin(np.abs(time_plot - times))\n",
        "    mne.viz.plot_topomap(mean_plot, pos=info, axes=ax, show=False,\n",
        "                         vmin=min_coef*1.2, vmax=max_coef*1.5, names = range(0,128), show_names=False, sensors=False)\n",
        "    ax.set(title=the_title)\n",
        "    mne.viz.tight_layout()"
      ],
      "metadata": {
        "cellView": "form",
        "id": "FRiVxwPaP1BP"
      },
      "execution_count": null,
      "outputs": []
    },
    {
      "cell_type": "code",
      "source": [
        "sd = 1.6\n",
        "pl =0\n",
        "nrow = 3\n",
        "ncol = 3\n",
        "#gri = {'wspace':0.5,'hspace':0.4,'width_ratios':[1,2,0.1]}\n",
        "fig, axes = plt.subplots(1,4, squeeze = False)\n",
        "plot_brain(0.148,0.203,pl,axes[0,0],\"~175ms\")\n",
        "plot_brain(0.297,0.352,pl,axes[0,1],\"~325ms\")\n",
        "plot_brain(0.359,0.422,pl,axes[0,2],\"~385ms\")\n",
        "plot_brain(0.477,0.531,pl,axes[0,3],\"~500ms\")"
      ],
      "metadata": {
        "colab": {
          "base_uri": "https://localhost:8080/",
          "height": 363
        },
        "id": "89HkXEfRQVuB",
        "outputId": "761b5bc3-2362-4be0-d31f-1b6a6fee34d5"
      },
      "execution_count": null,
      "outputs": [
        {
          "output_type": "stream",
          "name": "stderr",
          "text": [
            "/usr/local/lib/python3.7/dist-packages/mne/io/pick.py:385: DeprecationWarning: `np.bool` is a deprecated alias for the builtin `bool`. To silence this warning, use `bool` by itself. Doing this will not modify any behavior and is safe. If you specifically wanted the numpy scalar type, use `np.bool_` here.\n",
            "Deprecated in NumPy 1.20; for more details and guidance: https://numpy.org/devdocs/release/1.20.0-notes.html#deprecations\n",
            "  pick = np.zeros(nchan, dtype=np.bool)\n",
            "/usr/local/lib/python3.7/dist-packages/mne/io/pick.py:385: DeprecationWarning: `np.bool` is a deprecated alias for the builtin `bool`. To silence this warning, use `bool` by itself. Doing this will not modify any behavior and is safe. If you specifically wanted the numpy scalar type, use `np.bool_` here.\n",
            "Deprecated in NumPy 1.20; for more details and guidance: https://numpy.org/devdocs/release/1.20.0-notes.html#deprecations\n",
            "  pick = np.zeros(nchan, dtype=np.bool)\n",
            "/usr/local/lib/python3.7/dist-packages/mne/io/pick.py:385: DeprecationWarning: `np.bool` is a deprecated alias for the builtin `bool`. To silence this warning, use `bool` by itself. Doing this will not modify any behavior and is safe. If you specifically wanted the numpy scalar type, use `np.bool_` here.\n",
            "Deprecated in NumPy 1.20; for more details and guidance: https://numpy.org/devdocs/release/1.20.0-notes.html#deprecations\n",
            "  pick = np.zeros(nchan, dtype=np.bool)\n",
            "/usr/local/lib/python3.7/dist-packages/mne/io/pick.py:385: DeprecationWarning: `np.bool` is a deprecated alias for the builtin `bool`. To silence this warning, use `bool` by itself. Doing this will not modify any behavior and is safe. If you specifically wanted the numpy scalar type, use `np.bool_` here.\n",
            "Deprecated in NumPy 1.20; for more details and guidance: https://numpy.org/devdocs/release/1.20.0-notes.html#deprecations\n",
            "  pick = np.zeros(nchan, dtype=np.bool)\n"
          ]
        },
        {
          "output_type": "display_data",
          "data": {
            "text/plain": [
              "<Figure size 432x288 with 4 Axes>"
            ],
            "image/png": "[encoded data removed]"
          },
          "metadata": {}
        }
      ]
    }
  ]
}
