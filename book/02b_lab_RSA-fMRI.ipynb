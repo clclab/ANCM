{
  "cells": [
    {
      "cell_type": "markdown",
      "metadata": {
        "id": "VljrHRcPlq_z"
      },
      "source": [
        "# 2B: Representational similarity with story reading fMRI data\n",
        "\n",
        "_by Marianne de Heer Kloots, September 2022_\n",
        "\n",
        "In the first part of this week's tutorial we saw how the structure of the embeddings space changes over model layers: the embeddings become more contextualized in deeper layers. \n",
        "\n",
        "Recent work comparing language model activations to human brain measurements suggests that these deeper and more contextualized layers align better with the brain than the earlier layers (for example [Caucheteux & King, 2022](https://doi.org/10.1038/s42003-022-03036-1); [Schrimpf et al., 2021](https://doi.org/10.1073/pnas.2105646118)). These studies use trained regression models to map from model activations to brain signals, but we can also use RSA to analyze the same phenomenon. Just as we computed the correlation of RDMs from different model layers before, we can now compute the correlation between model and brain RDMs. So is it true that embeddings from later model layers form more brain-like representational spaces, compared to earlier model layers?\n",
        "\n",
        "To answer this question, we'll use fMRI scans recorded from one subject in an experiment where subjects read a chapter from the first Harry Potter book ([Wehbe et al., 2014](https://doi.org/10.1371/journal.pone.0123148)). Participants in the experiment were presented with the chapter text through Rapid Serial Visual Presentation (RSVP), meaning that the words of the chapter appeared one by one on a screen, for 500 ms each. The brain scan TR (repetition time) was 2 seconds, meaning that every 2 seconds a 3d brain volume was recorded. This means that (almost\\*) every scan records the activity of reading 4 words. We'll therefore also average the embeddings over 4 words on the model side, in order to create so-called 'TR embeddings' that give us the same temporal resolution as we have from the participant. In addition, to account for the haemodynamic response delay\\**, we take the brain scan recorded 4 seconds (2 TRs) after each text presentation as the response to that text. Finally, we restrict ourselves to voxels recorded in the left anterior temporal lobe (LATL), which is generally known to be an important area for semantics and language processing (see e.g. [Bonner & Price, 2013](https://doi.org/10.1523/JNEUROSCI.0041-13.2013), [Bemis & Pylkkänen, 2013](https://doi.org/10.1093/cercor/bhs170)).\n",
        "\n",
        "_____\n",
        "\\* In practice, the experiment was divided into 4 blocks, and the last scan in each block contains reading activity for only 3 words. In the code below, we provide you with all 1295 TR texts (one on each line in the `tr_texts.txt` file) and the corresponding 1295 brain responses, so the inputs and recorded activations are aligned correctly.\n",
        "\n",
        "\\** The signal recorded in fMRI studies is the so-called Blood Oxygen Level Dependent (BOLD) response, which takes about [4-6 seconds](https://www.nature.com/scitable/blog/brain-metrics/what_does_fmri_measure/) after stimulus presentation to reach its peak. We choose 4 seconds here based on earlier work where we found this to work best for this dataset ([Abnar et al., 2019](https://aclanthology.org/W19-4820/); figure 6)."
      ]
    },
    {
      "cell_type": "code",
      "execution_count": 1,
      "metadata": {
        "id": "_Res-zZqlm6_"
      },
      "outputs": [],
      "source": [
        "!pip -q install pathlib wget transformers nilearn"
      ]
    },
    {
      "cell_type": "markdown",
      "metadata": {
        "id": "1I3EtnjmmG6f"
      },
      "source": [
        "For this part of the tutorial, we import some helper functions from Marianne's research code for dealing with the fMRI data. If you're curious to know what is going on under the hood, you can look up any specific function in the [fmri_data_loading.py](https://github.com/clclab/ANCM/blob/main/lab2/fmri_data_loading.py) file, or run a code cell with a function name followed by `?`. Although some of these functions have different names than the ones we used before, it should be clear that we will be following the same steps overall: computing distance matrices for different layers of our model (and now also for the brain), and then calculate the correlation between them for RSA."
      ]
    },
    {
      "cell_type": "code",
      "execution_count": 2,
      "metadata": {
        "id": "NDDfl3PsmC_B"
      },
      "outputs": [],
      "source": [
        "import wget\n",
        "import os\n",
        "\n",
        "if not os.path.exists('fmri_data_loading.py'):\n",
        "  wget.download('https://raw.githubusercontent.com/clclab/ANCM/main/lab2/fmri_data_loading.py')\n",
        "tr_texts_file = 'tr_texts.txt'\n",
        "if not os.path.exists(tr_texts_file):\n",
        "  wget.download('https://raw.githubusercontent.com/clclab/ANCM/main/lab2/tr_texts.txt')"
      ]
    },
    {
      "cell_type": "code",
      "execution_count": 3,
      "metadata": {
        "id": "lMfwr3obmVL_"
      },
      "outputs": [],
      "source": [
        "from transformers import AutoModel, AutoTokenizer\n",
        "import nilearn.signal\n",
        "import copy\n",
        "import matplotlib.pyplot as plt\n",
        "from fmri_data_loading import *"
      ]
    },
    {
      "cell_type": "code",
      "execution_count": 4,
      "metadata": {
        "colab": {
          "base_uri": "https://localhost:8080/"
        },
        "id": "yWwuJiEBmRjj",
        "outputId": "a8a530c3-22b8-4b83-f092-9d79c8078cd9"
      },
      "outputs": [
        {
          "name": "stderr",
          "output_type": "stream",
          "text": [
            "Some weights of the model checkpoint at bert-base-uncased were not used when initializing BertModel: ['cls.predictions.transform.LayerNorm.weight', 'cls.seq_relationship.bias', 'cls.predictions.transform.dense.bias', 'cls.predictions.decoder.weight', 'cls.predictions.transform.dense.weight', 'cls.predictions.transform.LayerNorm.bias', 'cls.predictions.bias', 'cls.seq_relationship.weight']\n",
            "- This IS expected if you are initializing BertModel from the checkpoint of a model trained on another task or with another architecture (e.g. initializing a BertForSequenceClassification model from a BertForPreTraining model).\n",
            "- This IS NOT expected if you are initializing BertModel from the checkpoint of a model that you expect to be exactly identical (initializing a BertForSequenceClassification model from a BertForSequenceClassification model).\n"
          ]
        },
        {
          "data": {
            "text/plain": [
              "<torch.autograd.grad_mode.set_grad_enabled at 0x7f0bbc3cdf90>"
            ]
          },
          "execution_count": 4,
          "metadata": {},
          "output_type": "execute_result"
        }
      ],
      "source": [
        "# load the model and tokenizer\n",
        "model_name = 'bert-base-uncased'\n",
        "\n",
        "model = AutoModel.from_pretrained(model_name,\n",
        "            output_hidden_states=True,\n",
        "            output_attentions=True)\n",
        "tokenizer = AutoTokenizer.from_pretrained(model_name)\n",
        "\n",
        "torch.set_grad_enabled(False)"
      ]
    },
    {
      "cell_type": "markdown",
      "metadata": {
        "id": "K9MTS6bSnL6C"
      },
      "source": [
        "Below we download the data from subject 8 in the Wehbe et al. (2014) experiment. You can find more information on this dataset, as well as the data from other subjects, [here](http://www.cs.cmu.edu/~fmri/plosone/). In particular, a description of all the information available per subject is available [here](http://www.cs.cmu.edu/~fmri/plosone/files/description.txt) (the original data is stored in .mat files, which we convert to python dictionaries below, but they contain the same information; you can run the `load_subj_dict?` cell below to see more information about the structure of the dictionaries). "
      ]
    },
    {
      "cell_type": "code",
      "execution_count": 5,
      "metadata": {
        "id": "wehbenodnPd4"
      },
      "outputs": [],
      "source": [
        "load_subj_dict?"
      ]
    },
    {
      "cell_type": "code",
      "execution_count": 6,
      "metadata": {
        "id": "4JTv-7KunNwm"
      },
      "outputs": [],
      "source": [
        "# download data for subject 8\n",
        "subj_raw_file = 'subject_8.mat'\n",
        "if not os.path.exists(subj_raw_file):\n",
        "    url = 'http://www.cs.cmu.edu/~fmri/plosone/files/subject_8.mat'\n",
        "    wget.download(url)\n",
        "\n",
        "# load into python dictionary\n",
        "subj_dict = load_subj_dict(subj_raw_file)\n",
        "\n",
        "# preprocess fMRI signals\n",
        "subj_cleaned_file = 'subject_8_clean.npy'\n",
        "if not os.path.exists(subj_cleaned_file):\n",
        "    # preprocessing parameters\n",
        "    cleaning_params = {\n",
        "        't_r': 2,                 # TR length in seconds\n",
        "        'low_pass': None,         # low-pass filter frequency cutoff (Hz)\n",
        "        'high_pass': 0.005,       # high-pass filter frequency cutoff (Hz)\n",
        "        'standardize': 'zscore',  # standardization method\n",
        "        'detrend': True,          # whether to apply detrending\n",
        "    }\n",
        "\n",
        "    cleaned_subj_dict = copy.copy(subj_dict)\n",
        "    cleaned_subj_dict['data'] = nilearn.signal.clean(subj_dict['data'], \n",
        "                                    runs=subj_dict['time'][:,1], \n",
        "                                    **cleaning_params)\n",
        "    np.save(subj_cleaned_file, cleaned_subj_dict)\n",
        "subj_dict = np.load(subj_cleaned_file, allow_pickle=True).item()"
      ]
    },
    {
      "cell_type": "markdown",
      "metadata": {
        "id": "xFsakITwnS4z"
      },
      "source": [
        "Below we select the regions of interest (ROIs) in the left anterior temporal lobe (LATL) from which we will retrieve the brain responses and construct the brain-side RDMs. You can later define another selection of ROIs yourself, if you like (run `subj_dict['meta']['ROInumToName']` to see a list of all available ROIs in this dataset, they are based on the [AAL Single-Subject atlas](https://www.pmod.com/files/download/v36/doc/pneuro/6750.htm))."
      ]
    },
    {
      "cell_type": "code",
      "execution_count": 7,
      "metadata": {
        "id": "KSxgQdASnTQC"
      },
      "outputs": [],
      "source": [
        "# subregions of left-anterior temporal lobe\n",
        "LATL_ROI = ['Temporal_Sup_L', 'Temporal_Pole_Sup_L', \n",
        "            'Temporal_Mid_L', 'Temporal_Pole_Mid_L', 'Temporal_Inf_L', \n",
        "            'Fusiform_L', 'ParaHippocampal_L']"
      ]
    },
    {
      "cell_type": "markdown",
      "metadata": {
        "id": "T0GV1sXUnVcR"
      },
      "source": [
        "We now have the brain response scans for each of the 1295 text TRs; there are 4210 voxels in our LATL ROI selection."
      ]
    },
    {
      "cell_type": "code",
      "execution_count": 8,
      "metadata": {
        "colab": {
          "base_uri": "https://localhost:8080/"
        },
        "id": "w2iBn6aHnWDy",
        "outputId": "32531caf-eae6-4b61-8a6a-c7790e1dab08"
      },
      "outputs": [
        {
          "data": {
            "text/plain": [
              "(1295, 4210)"
            ]
          },
          "execution_count": 8,
          "metadata": {},
          "output_type": "execute_result"
        }
      ],
      "source": [
        "brain_responses = get_text_response_scans(subj_dict, \n",
        "                                          delay=2,\n",
        "                                          ROI=LATL_ROI) # delay in TRs (1 TR = 2 sec)\n",
        "brain_responses['voxel_signals'].shape"
      ]
    },
    {
      "cell_type": "markdown",
      "metadata": {
        "id": "yhcZXnqfnZp6"
      },
      "source": [
        "Below we load `tr_texts` (a list of texts, one for every TR containing the text presented during that TR), and we calculate the number of words presented during each TR (a list of mostly 4s and some 3s). We then split the text into sentences which we will present to our model to extract the embeddings. Note that for BERT, this means that the model will for some TRs have access to the words at the end of the sentence, which the experiment participant hadn't seen at the time the brain scan was recorded. If you'd like, you can try out different ways of providing input text to the model, for example a fixed text window for each TR excluding words presented after that TR (a way to 'make BERT causal' as discussed in the lecture)."
      ]
    },
    {
      "cell_type": "code",
      "execution_count": 9,
      "metadata": {
        "id": "f0swHZoKnXzz"
      },
      "outputs": [],
      "source": [
        "tr_texts = open(tr_texts_file, 'r').read().splitlines()\n",
        "words_per_tr = [len(tr.split(' ')) for tr in tr_texts]\n",
        "hp_sentences = create_context_sentences(tr_texts)"
      ]
    },
    {
      "cell_type": "markdown",
      "metadata": {
        "id": "WWIqkX9zncGS"
      },
      "source": [
        "We process all sentences of the Harry Potter chapter through BERT, and extract the embeddings for each word at every layer. There are 5176 words and 13 'layers' (input embeddings + 12 model layers), which each have a 768-dimensional activation vector for every word."
      ]
    },
    {
      "cell_type": "code",
      "execution_count": 10,
      "metadata": {
        "colab": {
          "base_uri": "https://localhost:8080/"
        },
        "id": "1SNyaleHndF6",
        "outputId": "4321f964-bb96-4e94-a81b-21228ee2da7e"
      },
      "outputs": [
        {
          "name": "stdout",
          "output_type": "stream",
          "text": [
            "(5176, 13, 768)\n",
            "CPU times: user 4min 42s, sys: 1.84 s, total: 4min 44s\n",
            "Wall time: 4min 46s\n"
          ]
        }
      ],
      "source": [
        "%%time\n",
        "# this will take a few minutes\n",
        "layer_acts_bert = get_layer_activations(model, \n",
        "                      tokenizer, \n",
        "                      hp_sentences)\n",
        "layer_acts_bert = np.concatenate(layer_acts_bert)\n",
        "print(layer_acts_bert.shape)"
      ]
    },
    {
      "cell_type": "markdown",
      "metadata": {
        "id": "2wxIqqwQngFb"
      },
      "source": [
        "Then we average over the words in each TR to get the 'TR embeddings':"
      ]
    },
    {
      "cell_type": "code",
      "execution_count": 11,
      "metadata": {
        "colab": {
          "base_uri": "https://localhost:8080/"
        },
        "id": "Dwf8l7RKnhQj",
        "outputId": "90b80187-f02a-4a52-98a2-628af55d958a"
      },
      "outputs": [
        {
          "name": "stdout",
          "output_type": "stream",
          "text": [
            "(1295, 13, 768)\n"
          ]
        }
      ],
      "source": [
        "tr_embeddings_bert = get_tr_embeddings(layer_acts_bert, words_per_tr)\n",
        "print(tr_embeddings_bert.shape)"
      ]
    },
    {
      "cell_type": "markdown",
      "metadata": {
        "id": "PcoLFRMfnikD"
      },
      "source": [
        "Now we have activations vectors for each of the 1295 text TRs for each layer of the model. We also have brain responses to each of the 1295 text TRs, so we can create RDMs for both! (13 RDMs for each layer of the model, and 1 RDM for subject 8's brain responses)"
      ]
    },
    {
      "cell_type": "code",
      "execution_count": 12,
      "metadata": {
        "colab": {
          "base_uri": "https://localhost:8080/"
        },
        "id": "yHhYtD04njMr",
        "outputId": "b89bd79a-9bf6-443e-be01-971410742cd6"
      },
      "outputs": [
        {
          "name": "stdout",
          "output_type": "stream",
          "text": [
            "(1295, 1295)\n",
            "(1295, 1295)\n"
          ]
        }
      ],
      "source": [
        "RDMs_bert = [vector_distance_matrix(tr_embeddings_bert[:,layer,:],\n",
        "                                   metric=\"cosine\")\n",
        "             for layer in range(tr_embeddings_bert.shape[1])]\n",
        "\n",
        "RDM_brain = vector_distance_matrix(brain_responses['voxel_signals'],\n",
        "                                   metric=\"cosine\")\n",
        "\n",
        "print(RDMs_bert[0].shape) # one of the model RDMs\n",
        "print(RDM_brain.shape) # the brain RDM"
      ]
    },
    {
      "cell_type": "markdown",
      "metadata": {
        "id": "idv84gWInmO0"
      },
      "source": [
        "We can compute the RSA score (Pearson's correlation) between each of the model layers and the brain responses now."
      ]
    },
    {
      "cell_type": "code",
      "execution_count": 13,
      "metadata": {
        "id": "OeEGzaHknmrb"
      },
      "outputs": [],
      "source": [
        "rsa_scores_bert = [compute_rsa_score(RDM_brain,\n",
        "                                     RDMs_bert[layer],\n",
        "                                     score=\"pearsonr\")\n",
        "                   for layer in range(len(RDMs_bert))]"
      ]
    },
    {
      "cell_type": "markdown",
      "metadata": {
        "id": "NRnrxyUmnohb"
      },
      "source": [
        "As we see below, the correlation values themselves are quite low (they might get a bit higher if you provide the model with more context text). But we do observe the expected qualitative pattern: the higher layers with more contextualized embeddings score up to twice as high in representational similarity compared to lower layers."
      ]
    },
    {
      "cell_type": "code",
      "execution_count": 14,
      "metadata": {
        "colab": {
          "base_uri": "https://localhost:8080/",
          "height": 295
        },
        "id": "2BZ_SMrSno_M",
        "outputId": "b0b53be3-821e-49fc-b550-30e4d67f2aab"
      },
      "outputs": [
        {
          "data": {
            "image/png": "[encoded data removed]",
            "text/plain": [
              "<Figure size 432x288 with 1 Axes>"
            ]
          },
          "metadata": {
            "needs_background": "light"
          },
          "output_type": "display_data"
        }
      ],
      "source": [
        "plt.plot(rsa_scores_bert)\n",
        "plt.xlabel('model layer')\n",
        "plt.xticks(range(len(rsa_scores_bert)))\n",
        "plt.ylabel('similarity score (pearson\\'s r)')\n",
        "plt.title('Model-brain similarity over model layers')\n",
        "plt.show()"
      ]
    },
    {
      "cell_type": "markdown",
      "metadata": {
        "id": "vZjj2yuunrID"
      },
      "source": [
        "# ASSIGNMENT (part 1)\n",
        "At first sight, the result above seems to nicely confirm the idea that the more contextualized embeddings from middle-to-high model layers show better alignment with human brain responses. But what have we really learned about language processing? \n",
        "\n",
        "To make sure that this result really captures something about the linguistic processes involved in story reading, we would ideally compare it to some 'control' or 'baseline' condition where we would _not_ expect the effect to occur. One option would be to compare results with a different brain region that we would not expect to be as much involved in language processing. Another option could be to shuffle the RDMs before computing the RSA scores, such that we compute the correlation between model and brain RDMs for unmatched TRs (you could do this several times to create a 'null distribution' of RSA scores). You might also want to see if the result can be reproduced at the group level (comparing RSA scores across individual subjects or computing a mean RDM for several subjects), compute some kind of 'noise ceiling' based on RDM-correlation across subjects ([Nili et al., 2014](https://doi.org/10.1371/journal.pcbi.1003553)), or compare to results using a different model architecture (like GPT-2). \n",
        "\n",
        "Choose at least one of the options above, and include one (or more) plot(s) in your report comparing the result obtained above to your 'baseline' / 'control' condition or analysis extension. Then describe your approach in around 200-300 words, focussing on what your analysis teaches us about human brain activity involved in language processing, and answering the following questions:\n",
        "\n",
        "- Do your new results still confirm the idea that contextualized embeddings from middle-to-high model layers show better alignment with language processing in the human brain?\n",
        "- Why is your particular baseline / control / extension important to include in analyses comparing DNN activations and brain responses?\n",
        "- What are some limitations of this particular baseline / control / extension for your analysis (i.e. alternative explanations that it does not rule out yet)?"
      ]
    }
  ],
  "metadata": {
    "colab": {
      "collapsed_sections": [],
      "provenance": []
    },
    "kernelspec": {
      "display_name": "Python 3.7.6 64-bit ('3.7.6')",
      "language": "python",
      "name": "python3"
    },
    "language_info": {
      "name": "python",
      "version": "3.7.6"
    },
    "vscode": {
      "interpreter": {
        "hash": "e9865b8fc30c7210bbbe2c0b0464dbc9700000eff1f4e229588b0a8358506f7f"
      }
    }
  },
  "nbformat": 4,
  "nbformat_minor": 0
}
