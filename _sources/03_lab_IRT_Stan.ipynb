{
  "nbformat": 4,
  "nbformat_minor": 0,
  "metadata": {
    "colab": {
      "provenance": [],
      "collapsed_sections": []
    },
    "kernelspec": {
      "name": "python3",
      "display_name": "Python 3"
    },
    "language_info": {
      "name": "python"
    }
  },
  "cells": [
    {
      "cell_type": "markdown",
      "source": [
        "# Item Response Theory and Stan"
      ],
      "metadata": {
        "id": "t9lgYi7EPK2m"
      }
    },
    {
      "cell_type": "markdown",
      "source": [
        "In this lab, you will explore item response theory and Bayesian modelling with the Stan language."
      ],
      "metadata": {
        "id": "z_sHGGTNPQcx"
      }
    },
    {
      "cell_type": "markdown",
      "source": [
        "## Setup"
      ],
      "metadata": {
        "id": "QgZsGI6AOvoO"
      }
    },
    {
      "cell_type": "markdown",
      "source": [
        "First, you need to install Stan."
      ],
      "metadata": {
        "id": "TucqWWFKNWed"
      }
    },
    {
      "cell_type": "code",
      "execution_count": null,
      "metadata": {
        "colab": {
          "base_uri": "https://localhost:8080/"
        },
        "id": "HyCe6fys4bBM",
        "outputId": "4b815f06-6d3a-4e9f-95af-7d8c1a473bcf"
      },
      "outputs": [
        {
          "output_type": "stream",
          "name": "stdout",
          "text": [
            "Installing CmdStan version: 2.30.1\n",
            "Install directory: /root/.cmdstan\n",
            "CmdStan version 2.30.1 already installed\n"
          ]
        },
        {
          "output_type": "execute_result",
          "data": {
            "text/plain": [
              "True"
            ]
          },
          "metadata": {},
          "execution_count": 3
        }
      ],
      "source": [
        "import numpy as np\n",
        "import pandas as pd\n",
        "# Colab setup (courtesy of Justin Bois)\n",
        "#   N.B. This cell may take several minutes to complete (3 mins on the instructor's machine)\n",
        "import os, sys, subprocess\n",
        "cmd = \"pip install --upgrade iqplot bebi103 arviz cmdstanpy watermark\"\n",
        "process = subprocess.Popen(cmd.split(), stdout=subprocess.PIPE, stderr=subprocess.PIPE)\n",
        "stdout, stderr = process.communicate()\n",
        "import cmdstanpy; cmdstanpy.install_cmdstan()"
      ]
    },
    {
      "cell_type": "markdown",
      "source": [
        "Next, you need to download the data and Stan template [here](https://drive.google.com/file/d/1-ccSj_VuTfw4cx2qC4080pgci0z3P_Dh/view?usp=sharing). Save it to your own Google Drive as in previous labs, and then mount your drive."
      ],
      "metadata": {
        "id": "HcDGuqKbJXDC"
      }
    },
    {
      "cell_type": "code",
      "source": [
        "from google.colab import drive\n",
        "drive.mount('/content/drive')"
      ],
      "metadata": {
        "colab": {
          "base_uri": "https://localhost:8080/"
        },
        "id": "XLNJTp_w4600",
        "outputId": "9a83de4f-4a15-45fe-df58-d927e4ec5987"
      },
      "execution_count": null,
      "outputs": [
        {
          "output_type": "stream",
          "name": "stdout",
          "text": [
            "Drive already mounted at /content/drive; to attempt to forcibly remount, call drive.mount(\"/content/drive\", force_remount=True).\n"
          ]
        }
      ]
    },
    {
      "cell_type": "markdown",
      "metadata": {
        "id": "Z2ObpzjxClnA"
      },
      "source": [
        "Unzip the files into a folder (you will be able to find this folder if you click the folder icon in your left sidebar):"
      ]
    },
    {
      "cell_type": "code",
      "execution_count": null,
      "metadata": {
        "id": "K3zIlfAh-t9o"
      },
      "outputs": [],
      "source": [
        "!unzip -qq '/content/drive/MyDrive/irt4ancm.zip'"
      ]
    },
    {
      "cell_type": "markdown",
      "source": [
        "The following cell prints a list of all of the segments used in the experiment, so that you can find and listen to the results. All of the audio was extracted from the official YouTube videos of the Eurovision Song Contest finals."
      ],
      "metadata": {
        "id": "J2wCXdewOSUh"
      }
    },
    {
      "cell_type": "markdown",
      "source": [
        "## Background"
      ],
      "metadata": {
        "id": "xeY9z78vO0Ct"
      }
    },
    {
      "cell_type": "markdown",
      "source": [
        "The data in this lab come from the Eurovision Song Contest edition of the Hooked on Music experiment. You can try the experiment [here](https://hooked.amsterdammusiclab.nl/experiment/eurovision_2021)."
      ],
      "metadata": {
        "id": "VMgzZvvTO3Bm"
      }
    },
    {
      "cell_type": "code",
      "source": [
        "segment_df = pd.read_csv('irt4ancm/segment_list.csv')\n",
        "segment_df = segment_df.set_index('segment')\n",
        "segment_df"
      ],
      "metadata": {
        "colab": {
          "base_uri": "https://localhost:8080/",
          "height": 442
        },
        "id": "ptYoGCMl7EI3",
        "outputId": "97a60b15-f27a-41d4-af05-a9ee84bc2583"
      },
      "execution_count": null,
      "outputs": [
        {
          "output_type": "execute_result",
          "data": {
            "text/plain": [
              "         song   country  year                     artist               title  \\\n",
              "segment                                                                        \n",
              "1           1   Ukraine  2016                     Jamala                1944   \n",
              "2           1   Ukraine  2016                     Jamala                1944   \n",
              "3           1   Ukraine  2016                     Jamala                1944   \n",
              "4           1   Ukraine  2016                     Jamala                1944   \n",
              "5           1   Ukraine  2016                     Jamala                1944   \n",
              "...       ...       ...   ...                        ...                 ...   \n",
              "433        69   Czechia  2019                Lake Malawi  Friend of a Friend   \n",
              "434        70   Denmark  2019                    Leonora     Love Is Forever   \n",
              "435        71    Cyprus  2019                      Tamta              Replay   \n",
              "436        73  Slovenia  2019  Zala Kralj & Gašper Šantl                Sebi   \n",
              "437        75    Serbia  2019             Nevena Božović               Kruna   \n",
              "\n",
              "         start_position segment_type  \n",
              "segment                               \n",
              "1                 0.000            i  \n",
              "2                 7.925            v  \n",
              "3                39.500            c  \n",
              "4                72.043            v  \n",
              "5               132.559            b  \n",
              "...                 ...          ...  \n",
              "433              78.128            v  \n",
              "434              61.508            v  \n",
              "435              66.212            v  \n",
              "436              70.698            v  \n",
              "437             106.544            v  \n",
              "\n",
              "[437 rows x 7 columns]"
            ],
            "text/html": [
              "\n",
              "  <div id=\"df-276a69bd-97ec-4482-926c-fe0ef8237ce9\">\n",
              "    <div class=\"colab-df-container\">\n",
              "      <div>\n",
              "<style scoped>\n",
              "    .dataframe tbody tr th:only-of-type {\n",
              "        vertical-align: middle;\n",
              "    }\n",
              "\n",
              "    .dataframe tbody tr th {\n",
              "        vertical-align: top;\n",
              "    }\n",
              "\n",
              "    .dataframe thead th {\n",
              "        text-align: right;\n",
              "    }\n",
              "</style>\n",
              "<table border=\"1\" class=\"dataframe\">\n",
              "  <thead>\n",
              "    <tr style=\"text-align: right;\">\n",
              "      <th></th>\n",
              "      <th>song</th>\n",
              "      <th>country</th>\n",
              "      <th>year</th>\n",
              "      <th>artist</th>\n",
              "      <th>title</th>\n",
              "      <th>start_position</th>\n",
              "      <th>segment_type</th>\n",
              "    </tr>\n",
              "    <tr>\n",
              "      <th>segment</th>\n",
              "      <th></th>\n",
              "      <th></th>\n",
              "      <th></th>\n",
              "      <th></th>\n",
              "      <th></th>\n",
              "      <th></th>\n",
              "      <th></th>\n",
              "    </tr>\n",
              "  </thead>\n",
              "  <tbody>\n",
              "    <tr>\n",
              "      <th>1</th>\n",
              "      <td>1</td>\n",
              "      <td>Ukraine</td>\n",
              "      <td>2016</td>\n",
              "      <td>Jamala</td>\n",
              "      <td>1944</td>\n",
              "      <td>0.000</td>\n",
              "      <td>i</td>\n",
              "    </tr>\n",
              "    <tr>\n",
              "      <th>2</th>\n",
              "      <td>1</td>\n",
              "      <td>Ukraine</td>\n",
              "      <td>2016</td>\n",
              "      <td>Jamala</td>\n",
              "      <td>1944</td>\n",
              "      <td>7.925</td>\n",
              "      <td>v</td>\n",
              "    </tr>\n",
              "    <tr>\n",
              "      <th>3</th>\n",
              "      <td>1</td>\n",
              "      <td>Ukraine</td>\n",
              "      <td>2016</td>\n",
              "      <td>Jamala</td>\n",
              "      <td>1944</td>\n",
              "      <td>39.500</td>\n",
              "      <td>c</td>\n",
              "    </tr>\n",
              "    <tr>\n",
              "      <th>4</th>\n",
              "      <td>1</td>\n",
              "      <td>Ukraine</td>\n",
              "      <td>2016</td>\n",
              "      <td>Jamala</td>\n",
              "      <td>1944</td>\n",
              "      <td>72.043</td>\n",
              "      <td>v</td>\n",
              "    </tr>\n",
              "    <tr>\n",
              "      <th>5</th>\n",
              "      <td>1</td>\n",
              "      <td>Ukraine</td>\n",
              "      <td>2016</td>\n",
              "      <td>Jamala</td>\n",
              "      <td>1944</td>\n",
              "      <td>132.559</td>\n",
              "      <td>b</td>\n",
              "    </tr>\n",
              "    <tr>\n",
              "      <th>...</th>\n",
              "      <td>...</td>\n",
              "      <td>...</td>\n",
              "      <td>...</td>\n",
              "      <td>...</td>\n",
              "      <td>...</td>\n",
              "      <td>...</td>\n",
              "      <td>...</td>\n",
              "    </tr>\n",
              "    <tr>\n",
              "      <th>433</th>\n",
              "      <td>69</td>\n",
              "      <td>Czechia</td>\n",
              "      <td>2019</td>\n",
              "      <td>Lake Malawi</td>\n",
              "      <td>Friend of a Friend</td>\n",
              "      <td>78.128</td>\n",
              "      <td>v</td>\n",
              "    </tr>\n",
              "    <tr>\n",
              "      <th>434</th>\n",
              "      <td>70</td>\n",
              "      <td>Denmark</td>\n",
              "      <td>2019</td>\n",
              "      <td>Leonora</td>\n",
              "      <td>Love Is Forever</td>\n",
              "      <td>61.508</td>\n",
              "      <td>v</td>\n",
              "    </tr>\n",
              "    <tr>\n",
              "      <th>435</th>\n",
              "      <td>71</td>\n",
              "      <td>Cyprus</td>\n",
              "      <td>2019</td>\n",
              "      <td>Tamta</td>\n",
              "      <td>Replay</td>\n",
              "      <td>66.212</td>\n",
              "      <td>v</td>\n",
              "    </tr>\n",
              "    <tr>\n",
              "      <th>436</th>\n",
              "      <td>73</td>\n",
              "      <td>Slovenia</td>\n",
              "      <td>2019</td>\n",
              "      <td>Zala Kralj &amp; Gašper Šantl</td>\n",
              "      <td>Sebi</td>\n",
              "      <td>70.698</td>\n",
              "      <td>v</td>\n",
              "    </tr>\n",
              "    <tr>\n",
              "      <th>437</th>\n",
              "      <td>75</td>\n",
              "      <td>Serbia</td>\n",
              "      <td>2019</td>\n",
              "      <td>Nevena Božović</td>\n",
              "      <td>Kruna</td>\n",
              "      <td>106.544</td>\n",
              "      <td>v</td>\n",
              "    </tr>\n",
              "  </tbody>\n",
              "</table>\n",
              "<p>437 rows × 7 columns</p>\n",
              "</div>\n",
              "      <button class=\"colab-df-convert\" onclick=\"convertToInteractive('df-276a69bd-97ec-4482-926c-fe0ef8237ce9')\"\n",
              "              title=\"Convert this dataframe to an interactive table.\"\n",
              "              style=\"display:none;\">\n",
              "        \n",
              "  <svg xmlns=\"http://www.w3.org/2000/svg\" height=\"24px\"viewBox=\"0 0 24 24\"\n",
              "       width=\"24px\">\n",
              "    <path d=\"M0 0h24v24H0V0z\" fill=\"none\"/>\n",
              "    <path d=\"M18.56 5.44l.94 2.06.94-2.06 2.06-.94-2.06-.94-.94-2.06-.94 2.06-2.06.94zm-11 1L8.5 8.5l.94-2.06 2.06-.94-2.06-.94L8.5 2.5l-.94 2.06-2.06.94zm10 10l.94 2.06.94-2.06 2.06-.94-2.06-.94-.94-2.06-.94 2.06-2.06.94z\"/><path d=\"M17.41 7.96l-1.37-1.37c-.4-.4-.92-.59-1.43-.59-.52 0-1.04.2-1.43.59L10.3 9.45l-7.72 7.72c-.78.78-.78 2.05 0 2.83L4 21.41c.39.39.9.59 1.41.59.51 0 1.02-.2 1.41-.59l7.78-7.78 2.81-2.81c.8-.78.8-2.07 0-2.86zM5.41 20L4 18.59l7.72-7.72 1.47 1.35L5.41 20z\"/>\n",
              "  </svg>\n",
              "      </button>\n",
              "      \n",
              "  <style>\n",
              "    .colab-df-container {\n",
              "      display:flex;\n",
              "      flex-wrap:wrap;\n",
              "      gap: 12px;\n",
              "    }\n",
              "\n",
              "    .colab-df-convert {\n",
              "      background-color: #E8F0FE;\n",
              "      border: none;\n",
              "      border-radius: 50%;\n",
              "      cursor: pointer;\n",
              "      display: none;\n",
              "      fill: #1967D2;\n",
              "      height: 32px;\n",
              "      padding: 0 0 0 0;\n",
              "      width: 32px;\n",
              "    }\n",
              "\n",
              "    .colab-df-convert:hover {\n",
              "      background-color: #E2EBFA;\n",
              "      box-shadow: 0px 1px 2px rgba(60, 64, 67, 0.3), 0px 1px 3px 1px rgba(60, 64, 67, 0.15);\n",
              "      fill: #174EA6;\n",
              "    }\n",
              "\n",
              "    [theme=dark] .colab-df-convert {\n",
              "      background-color: #3B4455;\n",
              "      fill: #D2E3FC;\n",
              "    }\n",
              "\n",
              "    [theme=dark] .colab-df-convert:hover {\n",
              "      background-color: #434B5C;\n",
              "      box-shadow: 0px 1px 3px 1px rgba(0, 0, 0, 0.15);\n",
              "      filter: drop-shadow(0px 1px 2px rgba(0, 0, 0, 0.3));\n",
              "      fill: #FFFFFF;\n",
              "    }\n",
              "  </style>\n",
              "\n",
              "      <script>\n",
              "        const buttonEl =\n",
              "          document.querySelector('#df-276a69bd-97ec-4482-926c-fe0ef8237ce9 button.colab-df-convert');\n",
              "        buttonEl.style.display =\n",
              "          google.colab.kernel.accessAllowed ? 'block' : 'none';\n",
              "\n",
              "        async function convertToInteractive(key) {\n",
              "          const element = document.querySelector('#df-276a69bd-97ec-4482-926c-fe0ef8237ce9');\n",
              "          const dataTable =\n",
              "            await google.colab.kernel.invokeFunction('convertToInteractive',\n",
              "                                                     [key], {});\n",
              "          if (!dataTable) return;\n",
              "\n",
              "          const docLinkHtml = 'Like what you see? Visit the ' +\n",
              "            '<a target=\"_blank\" href=https://colab.research.google.com/notebooks/data_table.ipynb>data table notebook</a>'\n",
              "            + ' to learn more about interactive tables.';\n",
              "          element.innerHTML = '';\n",
              "          dataTable['output_type'] = 'display_data';\n",
              "          await google.colab.output.renderOutput(dataTable, element);\n",
              "          const docLink = document.createElement('div');\n",
              "          docLink.innerHTML = docLinkHtml;\n",
              "          element.appendChild(docLink);\n",
              "        }\n",
              "      </script>\n",
              "    </div>\n",
              "  </div>\n",
              "  "
            ]
          },
          "metadata": {},
          "execution_count": 6
        }
      ]
    },
    {
      "cell_type": "markdown",
      "source": [
        "## Lab"
      ],
      "metadata": {
        "id": "u9gTwgHqPDFQ"
      }
    },
    {
      "cell_type": "markdown",
      "source": [
        "Open the `irt4ancm.stan` file in the right-hand pane. You will make any adjstments to your model here."
      ],
      "metadata": {
        "id": "tQkA3W1qVbaC"
      }
    },
    {
      "cell_type": "code",
      "source": [
        "from cmdstanpy import CmdStanModel"
      ],
      "metadata": {
        "id": "CdvPWFY6P8Cd"
      },
      "execution_count": null,
      "outputs": []
    },
    {
      "cell_type": "markdown",
      "source": [
        "Every time you change the model, you will need to recompile it."
      ],
      "metadata": {
        "id": "HBuo286zVi5h"
      }
    },
    {
      "cell_type": "code",
      "source": [
        "model = CmdStanModel(model_name=\"irt4ancm\", stan_file=\"irt4ancm/irt4ancm.stan\")"
      ],
      "metadata": {
        "colab": {
          "base_uri": "https://localhost:8080/"
        },
        "id": "liUBG4FrPXdv",
        "outputId": "a5764f0f-6d91-402f-cd43-d96d249034de"
      },
      "execution_count": null,
      "outputs": [
        {
          "output_type": "stream",
          "name": "stderr",
          "text": [
            "DEBUG:cmdstanpy:Removing /content/drive/MyDrive/irt4ancm/irt4ancm\n",
            "10:12:10 - cmdstanpy - INFO - compiling stan file /content/drive/MyDrive/irt4ancm/irt4ancm.stan to exe file /content/drive/MyDrive/irt4ancm/irt4ancm\n",
            "INFO:cmdstanpy:compiling stan file /content/drive/MyDrive/irt4ancm/irt4ancm.stan to exe file /content/drive/MyDrive/irt4ancm/irt4ancm\n",
            "DEBUG:cmdstanpy:cmd: make /content/drive/MyDrive/irt4ancm/irt4ancm\n",
            "cwd: /root/.cmdstan/cmdstan-2.30.1\n",
            "DEBUG:cmdstanpy:Console output:\n",
            "\n",
            "--- Translating Stan model to C++ code ---\n",
            "bin/stanc  --o=/content/drive/MyDrive/irt4ancm/irt4ancm.hpp /content/drive/MyDrive/irt4ancm/irt4ancm.stan\n",
            "\n",
            "--- Compiling, linking C++ code ---\n",
            "g++ -std=c++1y -pthread -D_REENTRANT -Wno-sign-compare -Wno-ignored-attributes      -I stan/lib/stan_math/lib/tbb_2020.3/include    -O3 -I src -I stan/src -I lib/rapidjson_1.1.0/ -I lib/CLI11-1.9.1/ -I stan/lib/stan_math/ -I stan/lib/stan_math/lib/eigen_3.3.9 -I stan/lib/stan_math/lib/boost_1.78.0 -I stan/lib/stan_math/lib/sundials_6.1.1/include -I stan/lib/stan_math/lib/sundials_6.1.1/src/sundials    -DBOOST_DISABLE_ASSERTS          -c -Wno-ignored-attributes   -x c++ -o /content/drive/MyDrive/irt4ancm/irt4ancm.o /content/drive/MyDrive/irt4ancm/irt4ancm.hpp\n",
            "g++ -std=c++1y -pthread -D_REENTRANT -Wno-sign-compare -Wno-ignored-attributes      -I stan/lib/stan_math/lib/tbb_2020.3/include    -O3 -I src -I stan/src -I lib/rapidjson_1.1.0/ -I lib/CLI11-1.9.1/ -I stan/lib/stan_math/ -I stan/lib/stan_math/lib/eigen_3.3.9 -I stan/lib/stan_math/lib/boost_1.78.0 -I stan/lib/stan_math/lib/sundials_6.1.1/include -I stan/lib/stan_math/lib/sundials_6.1.1/src/sundials    -DBOOST_DISABLE_ASSERTS                -Wl,-L,\"/root/.cmdstan/cmdstan-2.30.1/stan/lib/stan_math/lib/tbb\" -Wl,-rpath,\"/root/.cmdstan/cmdstan-2.30.1/stan/lib/stan_math/lib/tbb\"      /content/drive/MyDrive/irt4ancm/irt4ancm.o src/cmdstan/main.o        -Wl,-L,\"/root/.cmdstan/cmdstan-2.30.1/stan/lib/stan_math/lib/tbb\" -Wl,-rpath,\"/root/.cmdstan/cmdstan-2.30.1/stan/lib/stan_math/lib/tbb\"   stan/lib/stan_math/lib/sundials_6.1.1/lib/libsundials_nvecserial.a stan/lib/stan_math/lib/sundials_6.1.1/lib/libsundials_cvodes.a stan/lib/stan_math/lib/sundials_6.1.1/lib/libsundials_idas.a stan/lib/stan_math/lib/sundials_6.1.1/lib/libsundials_kinsol.a  stan/lib/stan_math/lib/tbb/libtbb.so.2 -o /content/drive/MyDrive/irt4ancm/irt4ancm\n",
            "rm -f /content/drive/MyDrive/irt4ancm/irt4ancm.o\n",
            "\n",
            "10:12:24 - cmdstanpy - INFO - compiled model executable: /content/drive/MyDrive/irt4ancm/irt4ancm\n",
            "INFO:cmdstanpy:compiled model executable: /content/drive/MyDrive/irt4ancm/irt4ancm\n"
          ]
        }
      ]
    },
    {
      "cell_type": "markdown",
      "source": [
        "We fit the model here using `all_plays.json`, which contains a complete set of data. You may find it more interesting to explore `rec_only.json` as an alternative, which contains only plays where the participant claimed to recognise the segment."
      ],
      "metadata": {
        "id": "ariXufvLVm0A"
      }
    },
    {
      "cell_type": "code",
      "source": [
        "fit = model.sample(data=\"irt4ancm/all_plays.json\")"
      ],
      "metadata": {
        "colab": {
          "base_uri": "https://localhost:8080/",
          "height": 1000,
          "referenced_widgets": [
            "fb6c02568e0b4092bd4a08717e6b14cc",
            "d449434d7ea3420b9bf7aaaf824ad235",
            "8dd6bcea4f5640d6b3f0f27ff72bd611",
            "30c1d70f689c491599a9d9ba95702e9d",
            "263deade727944c08cde4a9e65b00f8e",
            "68aaadc4c5e34b40979e0de3a0db7e55",
            "31fc74922a1946fb940512474131b7ac",
            "36a31e3f054b4f30a5440788039c402a",
            "421161586a9749699ac375c7d5170301",
            "21af4f986d20400f8be8c6a6bd4bd8a7",
            "92da20876c7640a0a39aeda0cad29e4e",
            "4a2e24e8e0a34f4bb01bd56aa1fe3dd3",
            "d6c1c00f01ca49ccb70b993b954ea0e3",
            "c390571efdb24255923d0da3f72e2211",
            "8f1a0913c1df4b5ebffaeadcf51fd315",
            "87ca5c6bd23a4b73af2957acc1e4452e",
            "2f406f76d0ab4976ba3a8bd1da79e7ac",
            "fe7c15fef90e49f8a569d996e9e820f9",
            "f5fdbedb4f6b459ea420feab3ee6319d",
            "431b1a473d374e9584a24b3243224f5c",
            "46671aeedb634727bb77c781d85dbf1b",
            "407825406aa340c68715200f1154190b",
            "328dc811e99e400d9dcd0606376a1ecf",
            "92c274457b544d01a65b9213841a7745",
            "0d953bc42fe346238e683172d398b4a4",
            "7c93b339d5c8426494bc2bd0021983f5",
            "037ac6c0f5ec4ad29deb31fea96309ee",
            "7bb62d0628ac4956bbb963aad76ccfb9",
            "88b1a290e1144bd68db3a12be97584db",
            "d436fc16a07d451480a7369850e17a50",
            "fb7a971c0c8547a4bc37361d673a486a",
            "31c04f4169474bd490b0c47b22cf9bad",
            "c489b5389020495aafb34dc8a93341d6",
            "b85910c3602545559c9b5e9c4e3813ea",
            "f93d683b32854d43ad140231a2900efe",
            "29420b38d60646918f17c9b7846ab91b",
            "f93d336a29af4731b1d427fb5a4a7fe2",
            "be9701e2e33c42a6b8984a88787785bc",
            "34d20fd18ce24fea9bf52bfbf1501897",
            "fa20e4245ea14f81b6876d349680f267",
            "e4a147e4db61442493f64247750dd2e3",
            "13f1d49d00a44cafab67a5179def7f58",
            "618626f89b5d433f8e63a6300fa69e62",
            "5b71077199b041deaaa37fbecf8a2ea1"
          ]
        },
        "id": "_njDAhoqQmo7",
        "outputId": "7b054893-d271-41e4-8663-d33c67faa83d"
      },
      "execution_count": null,
      "outputs": [
        {
          "output_type": "stream",
          "name": "stderr",
          "text": [
            "DEBUG:cmdstanpy:cmd: /content/drive/MyDrive/irt4ancm/irt4ancm info\n",
            "cwd: None\n",
            "10:14:38 - cmdstanpy - INFO - CmdStan start processing\n",
            "INFO:cmdstanpy:CmdStan start processing\n"
          ]
        },
        {
          "output_type": "display_data",
          "data": {
            "text/plain": [
              "chain 1 |          | 00:00 Status"
            ],
            "application/vnd.jupyter.widget-view+json": {
              "version_major": 2,
              "version_minor": 0,
              "model_id": "fb6c02568e0b4092bd4a08717e6b14cc"
            }
          },
          "metadata": {}
        },
        {
          "output_type": "display_data",
          "data": {
            "text/plain": [
              "chain 2 |          | 00:00 Status"
            ],
            "application/vnd.jupyter.widget-view+json": {
              "version_major": 2,
              "version_minor": 0,
              "model_id": "4a2e24e8e0a34f4bb01bd56aa1fe3dd3"
            }
          },
          "metadata": {}
        },
        {
          "output_type": "display_data",
          "data": {
            "text/plain": [
              "chain 3 |          | 00:00 Status"
            ],
            "application/vnd.jupyter.widget-view+json": {
              "version_major": 2,
              "version_minor": 0,
              "model_id": "328dc811e99e400d9dcd0606376a1ecf"
            }
          },
          "metadata": {}
        },
        {
          "output_type": "display_data",
          "data": {
            "text/plain": [
              "chain 4 |          | 00:00 Status"
            ],
            "application/vnd.jupyter.widget-view+json": {
              "version_major": 2,
              "version_minor": 0,
              "model_id": "b85910c3602545559c9b5e9c4e3813ea"
            }
          },
          "metadata": {}
        },
        {
          "output_type": "stream",
          "name": "stderr",
          "text": [
            "DEBUG:cmdstanpy:idx 0\n",
            "DEBUG:cmdstanpy:running CmdStan, num_threads: 1\n",
            "DEBUG:cmdstanpy:CmdStan args: ['/content/drive/MyDrive/irt4ancm/irt4ancm', 'id=1', 'random', 'seed=3603', 'data', 'file=/content/drive/MyDrive/irt4ancm/all_plays.json', 'output', 'file=/tmp/tmpccgkrh54/irt4ancmugp9oyf4/irt4ancm-20220926101439_1.csv', 'method=sample', 'algorithm=hmc', 'adapt', 'engaged=1']\n",
            "DEBUG:cmdstanpy:idx 1\n",
            "DEBUG:cmdstanpy:running CmdStan, num_threads: 1\n",
            "DEBUG:cmdstanpy:CmdStan args: ['/content/drive/MyDrive/irt4ancm/irt4ancm', 'id=2', 'random', 'seed=3603', 'data', 'file=/content/drive/MyDrive/irt4ancm/all_plays.json', 'output', 'file=/tmp/tmpccgkrh54/irt4ancmugp9oyf4/irt4ancm-20220926101439_2.csv', 'method=sample', 'algorithm=hmc', 'adapt', 'engaged=1']\n",
            "DEBUG:cmdstanpy:idx 2\n",
            "DEBUG:cmdstanpy:running CmdStan, num_threads: 1\n",
            "DEBUG:cmdstanpy:CmdStan args: ['/content/drive/MyDrive/irt4ancm/irt4ancm', 'id=3', 'random', 'seed=3603', 'data', 'file=/content/drive/MyDrive/irt4ancm/all_plays.json', 'output', 'file=/tmp/tmpccgkrh54/irt4ancmugp9oyf4/irt4ancm-20220926101439_3.csv', 'method=sample', 'algorithm=hmc', 'adapt', 'engaged=1']\n",
            "DEBUG:cmdstanpy:idx 3\n",
            "DEBUG:cmdstanpy:running CmdStan, num_threads: 1\n",
            "DEBUG:cmdstanpy:CmdStan args: ['/content/drive/MyDrive/irt4ancm/irt4ancm', 'id=4', 'random', 'seed=3603', 'data', 'file=/content/drive/MyDrive/irt4ancm/all_plays.json', 'output', 'file=/tmp/tmpccgkrh54/irt4ancmugp9oyf4/irt4ancm-20220926101439_4.csv', 'method=sample', 'algorithm=hmc', 'adapt', 'engaged=1']\n"
          ]
        },
        {
          "output_type": "stream",
          "name": "stdout",
          "text": [
            "                                                                                                                                                                                                                                                                                                                                "
          ]
        },
        {
          "output_type": "stream",
          "name": "stderr",
          "text": [
            "10:20:07 - cmdstanpy - INFO - CmdStan done processing.\n",
            "INFO:cmdstanpy:CmdStan done processing.\n",
            "DEBUG:cmdstanpy:runset\n",
            "RunSet: chains=4, chain_ids=[1, 2, 3, 4], num_processes=4\n",
            " cmd (chain 1):\n",
            "\t['/content/drive/MyDrive/irt4ancm/irt4ancm', 'id=1', 'random', 'seed=3603', 'data', 'file=/content/drive/MyDrive/irt4ancm/all_plays.json', 'output', 'file=/tmp/tmpccgkrh54/irt4ancmugp9oyf4/irt4ancm-20220926101439_1.csv', 'method=sample', 'algorithm=hmc', 'adapt', 'engaged=1']\n",
            " retcodes=[0, 0, 0, 0]\n",
            " per-chain output files (showing chain 1 only):\n",
            " csv_file:\n",
            "\t/tmp/tmpccgkrh54/irt4ancmugp9oyf4/irt4ancm-20220926101439_1.csv\n",
            " console_msgs (if any):\n",
            "\t/tmp/tmpccgkrh54/irt4ancmugp9oyf4/irt4ancm-20220926101439_0-stdout.txt\n",
            "DEBUG:cmdstanpy:Chain 1 console:\n",
            "method = sample (Default)\n",
            "  sample\n",
            "    num_samples = 1000 (Default)\n",
            "    num_warmup = 1000 (Default)\n",
            "    save_warmup = 0 (Default)\n",
            "    thin = 1 (Default)\n",
            "    adapt\n",
            "      engaged = 1 (Default)\n",
            "      gamma = 0.050000000000000003 (Default)\n",
            "      delta = 0.80000000000000004 (Default)\n",
            "      kappa = 0.75 (Default)\n",
            "      t0 = 10 (Default)\n",
            "      init_buffer = 75 (Default)\n",
            "      term_buffer = 50 (Default)\n",
            "      window = 25 (Default)\n",
            "    algorithm = hmc (Default)\n",
            "      hmc\n",
            "        engine = nuts (Default)\n",
            "          nuts\n",
            "            max_depth = 10 (Default)\n",
            "        metric = diag_e (Default)\n",
            "        metric_file =  (Default)\n",
            "        stepsize = 1 (Default)\n",
            "        stepsize_jitter = 0 (Default)\n",
            "    num_chains = 1 (Default)\n",
            "id = 1 (Default)\n",
            "data\n",
            "  file = /content/drive/MyDrive/irt4ancm/all_plays.json\n",
            "init = 2 (Default)\n",
            "random\n",
            "  seed = 3603\n",
            "output\n",
            "  file = /tmp/tmpccgkrh54/irt4ancmugp9oyf4/irt4ancm-20220926101439_1.csv\n",
            "  diagnostic_file =  (Default)\n",
            "  refresh = 100 (Default)\n",
            "  sig_figs = -1 (Default)\n",
            "  profile_file = profile.csv (Default)\n",
            "num_threads = 1 (Default)\n",
            "\n",
            "\n",
            "Gradient evaluation took 0.005164 seconds\n",
            "1000 transitions using 10 leapfrog steps per transition would take 51.64 seconds.\n",
            "Adjust your expectations accordingly!\n",
            "\n",
            "\n",
            "Iteration:    1 / 2000 [  0%]  (Warmup)\n",
            "Informational Message: The current Metropolis proposal is about to be rejected because of the following issue:\n",
            "Exception: normal_lpdf: Scale parameter is 0, but must be positive! (in '/content/drive/MyDrive/irt4ancm/irt4ancm.stan', line 32, column 2 to column 33)\n",
            "If this warning occurs sporadically, such as for highly constrained variable types like covariance matrices, then the sampler is fine,\n",
            "but if this warning occurs often then your model may be either severely ill-conditioned or misspecified.\n",
            "\n",
            "Informational Message: The current Metropolis proposal is about to be rejected because of the following issue:\n",
            "Exception: normal_lpdf: Scale parameter is 0, but must be positive! (in '/content/drive/MyDrive/irt4ancm/irt4ancm.stan', line 32, column 2 to column 33)\n",
            "If this warning occurs sporadically, such as for highly constrained variable types like covariance matrices, then the sampler is fine,\n",
            "but if this warning occurs often then your model may be either severely ill-conditioned or misspecified.\n",
            "\n",
            "Iteration:  100 / 2000 [  5%]  (Warmup)\n",
            "Iteration:  200 / 2000 [ 10%]  (Warmup)\n",
            "Iteration:  300 / 2000 [ 15%]  (Warmup)\n",
            "Iteration:  400 / 2000 [ 20%]  (Warmup)\n",
            "Iteration:  500 / 2000 [ 25%]  (Warmup)\n",
            "Iteration:  600 / 2000 [ 30%]  (Warmup)\n",
            "Iteration:  700 / 2000 [ 35%]  (Warmup)\n",
            "Iteration:  800 / 2000 [ 40%]  (Warmup)\n",
            "Iteration:  900 / 2000 [ 45%]  (Warmup)\n",
            "Iteration: 1000 / 2000 [ 50%]  (Warmup)\n",
            "Iteration: 1001 / 2000 [ 50%]  (Sampling)\n",
            "Iteration: 1100 / 2000 [ 55%]  (Sampling)\n",
            "Iteration: 1200 / 2000 [ 60%]  (Sampling)\n",
            "Iteration: 1300 / 2000 [ 65%]  (Sampling)\n",
            "Iteration: 1400 / 2000 [ 70%]  (Sampling)\n",
            "Iteration: 1500 / 2000 [ 75%]  (Sampling)\n",
            "Iteration: 1600 / 2000 [ 80%]  (Sampling)\n",
            "Iteration: 1700 / 2000 [ 85%]  (Sampling)\n",
            "Iteration: 1800 / 2000 [ 90%]  (Sampling)\n",
            "Iteration: 1900 / 2000 [ 95%]  (Sampling)\n",
            "Iteration: 2000 / 2000 [100%]  (Sampling)\n",
            "\n",
            " Elapsed Time: 96.686 seconds (Warm-up)\n",
            "               63.451 seconds (Sampling)\n",
            "               160.137 seconds (Total)\n",
            "\n",
            "\n",
            "10:20:07 - cmdstanpy - WARNING - Non-fatal error during sampling:\n",
            "Exception: normal_lpdf: Scale parameter is 0, but must be positive! (in '/content/drive/MyDrive/irt4ancm/irt4ancm.stan', line 32, column 2 to column 33)\n",
            "\tException: normal_lpdf: Scale parameter is 0, but must be positive! (in '/content/drive/MyDrive/irt4ancm/irt4ancm.stan', line 32, column 2 to column 33)\n",
            "Exception: normal_lpdf: Scale parameter is 0, but must be positive! (in '/content/drive/MyDrive/irt4ancm/irt4ancm.stan', line 33, column 2 to column 33)\n",
            "Exception: normal_lpdf: Scale parameter is 0, but must be positive! (in '/content/drive/MyDrive/irt4ancm/irt4ancm.stan', line 33, column 2 to column 33)\n",
            "Consider re-running with show_console=True if the above output is unclear!\n",
            "WARNING:cmdstanpy:Non-fatal error during sampling:\n",
            "Exception: normal_lpdf: Scale parameter is 0, but must be positive! (in '/content/drive/MyDrive/irt4ancm/irt4ancm.stan', line 32, column 2 to column 33)\n",
            "\tException: normal_lpdf: Scale parameter is 0, but must be positive! (in '/content/drive/MyDrive/irt4ancm/irt4ancm.stan', line 32, column 2 to column 33)\n",
            "Exception: normal_lpdf: Scale parameter is 0, but must be positive! (in '/content/drive/MyDrive/irt4ancm/irt4ancm.stan', line 33, column 2 to column 33)\n",
            "Exception: normal_lpdf: Scale parameter is 0, but must be positive! (in '/content/drive/MyDrive/irt4ancm/irt4ancm.stan', line 33, column 2 to column 33)\n",
            "Consider re-running with show_console=True if the above output is unclear!\n"
          ]
        },
        {
          "output_type": "stream",
          "name": "stdout",
          "text": [
            "\n"
          ]
        }
      ]
    },
    {
      "cell_type": "markdown",
      "source": [
        "Stan has a handy set of diagnostics that can warn you of any problems with your model fit. For the purposes of this lab, you will probably not have time to fix any problems, but you can report on them in the assignment."
      ],
      "metadata": {
        "id": "GKrDuu0vWKuB"
      }
    },
    {
      "cell_type": "code",
      "source": [
        "print(fit.diagnose())"
      ],
      "metadata": {
        "colab": {
          "base_uri": "https://localhost:8080/"
        },
        "id": "cmMMWpG2WHUC",
        "outputId": "ade00d9e-4f82-4199-9919-fdfe6f592bb8"
      },
      "execution_count": null,
      "outputs": [
        {
          "output_type": "stream",
          "name": "stderr",
          "text": [
            "DEBUG:cmdstanpy:cmd: /root/.cmdstan/cmdstan-2.30.1/bin/diagnose /tmp/tmpccgkrh54/irt4ancmugp9oyf4/irt4ancm-20220926101439_1.csv /tmp/tmpccgkrh54/irt4ancmugp9oyf4/irt4ancm-20220926101439_2.csv /tmp/tmpccgkrh54/irt4ancmugp9oyf4/irt4ancm-20220926101439_3.csv /tmp/tmpccgkrh54/irt4ancmugp9oyf4/irt4ancm-20220926101439_4.csv\n",
            "cwd: None\n"
          ]
        },
        {
          "output_type": "stream",
          "name": "stdout",
          "text": [
            "Processing csv files: /tmp/tmpccgkrh54/irt4ancmugp9oyf4/irt4ancm-20220926101439_1.csv, /tmp/tmpccgkrh54/irt4ancmugp9oyf4/irt4ancm-20220926101439_2.csv, /tmp/tmpccgkrh54/irt4ancmugp9oyf4/irt4ancm-20220926101439_3.csv, /tmp/tmpccgkrh54/irt4ancmugp9oyf4/irt4ancm-20220926101439_4.csv\n",
            "\n",
            "Checking sampler transitions treedepth.\n",
            "Treedepth satisfactory for all transitions.\n",
            "\n",
            "Checking sampler transitions for divergences.\n",
            "No divergent transitions found.\n",
            "\n",
            "Checking E-BFMI - sampler transitions HMC potential energy.\n",
            "E-BFMI satisfactory.\n",
            "\n",
            "Effective sample size satisfactory.\n",
            "\n",
            "Split R-hat values satisfactory all parameters.\n",
            "\n",
            "Processing complete, no problems detected.\n",
            "\n"
          ]
        }
      ]
    },
    {
      "cell_type": "markdown",
      "source": [
        "If the model is (mostly) problem-free, you can look at a summary of the parameter values. Remember that we get not a specific value but rather a whole distribution on each parameter. Stan reports means, standard error and deviation, and (most popular in the literature) 5%/50%/95% quantiles.\n",
        "\n",
        "The final three columns are convergence statistics. As a (very) rough rule of thumb, you want `N_eff` to be above 400 and `R_hat` to be less than 1.05."
      ],
      "metadata": {
        "id": "TmreiQakV-Df"
      }
    },
    {
      "cell_type": "code",
      "source": [
        "fit.summary()"
      ],
      "metadata": {
        "colab": {
          "base_uri": "https://localhost:8080/",
          "height": 464
        },
        "id": "yvaxnrHST_d-",
        "outputId": "1624b450-4247-4335-84e8-387d1c619e5f"
      },
      "execution_count": null,
      "outputs": [
        {
          "output_type": "stream",
          "name": "stderr",
          "text": [
            "DEBUG:cmdstanpy:cmd: /root/.cmdstan/cmdstan-2.30.1/bin/stansummary --percentiles= 5,50,95 --sig_figs=6 --csv_filename=/tmp/tmpccgkrh54/stansummary-irt4ancm-ioqyc4k3.csv /tmp/tmpccgkrh54/irt4ancmugp9oyf4/irt4ancm-20220926101439_1.csv /tmp/tmpccgkrh54/irt4ancmugp9oyf4/irt4ancm-20220926101439_2.csv /tmp/tmpccgkrh54/irt4ancmugp9oyf4/irt4ancm-20220926101439_3.csv /tmp/tmpccgkrh54/irt4ancmugp9oyf4/irt4ancm-20220926101439_4.csv\n",
            "cwd: None\n"
          ]
        },
        {
          "output_type": "execute_result",
          "data": {
            "text/plain": [
              "                    Mean      MCSE     StdDev           5%          50%  \\\n",
              "lp__        -5636.280000  0.809916  25.282800 -5679.260000 -5636.200000   \n",
              "mu             -0.018374  0.013676   1.020980    -1.677350    -0.021882   \n",
              "sigma_theta     1.994040  0.002346   0.091265     1.848120     1.991530   \n",
              "sigma_delta     0.872888  0.001572   0.049021     0.794273     0.871882   \n",
              "theta[1]       -2.900060  0.012507   0.799056    -4.322610    -2.838710   \n",
              "...                  ...       ...        ...          ...          ...   \n",
              "delta[433]     -0.292742  0.005331   0.355262    -0.878330    -0.300504   \n",
              "delta[434]      0.214229  0.005013   0.359587    -0.380022     0.217208   \n",
              "delta[435]     -0.021495  0.005051   0.374217    -0.642577    -0.020770   \n",
              "delta[436]      0.613609  0.005638   0.380584    -0.008727     0.607133   \n",
              "delta[437]      1.059740  0.005813   0.413095     0.392908     1.054800   \n",
              "\n",
              "                     95%     N_Eff   N_Eff/s     R_hat  \n",
              "lp__        -5595.490000   974.474   3.80931  1.000620  \n",
              "mu              1.650180  5573.720  21.78820  0.999639  \n",
              "sigma_theta     2.151640  1513.350   5.91584  1.001110  \n",
              "sigma_delta     0.956395   972.827   3.80287  1.001640  \n",
              "theta[1]       -1.689460  4081.970  15.95680  1.000740  \n",
              "...                  ...       ...       ...       ...  \n",
              "delta[433]      0.304796  4440.450  17.35810  0.999877  \n",
              "delta[434]      0.800408  5145.810  20.11550  1.000100  \n",
              "delta[435]      0.606995  5489.670  21.45960  0.999949  \n",
              "delta[436]      1.251060  4557.440  17.81540  0.999413  \n",
              "delta[437]      1.748900  5049.300  19.73820  0.999554  \n",
              "\n",
              "[936 rows x 9 columns]"
            ],
            "text/html": [
              "\n",
              "  <div id=\"df-9f448cc2-2487-4ec3-a333-4959df745a8a\">\n",
              "    <div class=\"colab-df-container\">\n",
              "      <div>\n",
              "<style scoped>\n",
              "    .dataframe tbody tr th:only-of-type {\n",
              "        vertical-align: middle;\n",
              "    }\n",
              "\n",
              "    .dataframe tbody tr th {\n",
              "        vertical-align: top;\n",
              "    }\n",
              "\n",
              "    .dataframe thead th {\n",
              "        text-align: right;\n",
              "    }\n",
              "</style>\n",
              "<table border=\"1\" class=\"dataframe\">\n",
              "  <thead>\n",
              "    <tr style=\"text-align: right;\">\n",
              "      <th></th>\n",
              "      <th>Mean</th>\n",
              "      <th>MCSE</th>\n",
              "      <th>StdDev</th>\n",
              "      <th>5%</th>\n",
              "      <th>50%</th>\n",
              "      <th>95%</th>\n",
              "      <th>N_Eff</th>\n",
              "      <th>N_Eff/s</th>\n",
              "      <th>R_hat</th>\n",
              "    </tr>\n",
              "  </thead>\n",
              "  <tbody>\n",
              "    <tr>\n",
              "      <th>lp__</th>\n",
              "      <td>-5636.280000</td>\n",
              "      <td>0.809916</td>\n",
              "      <td>25.282800</td>\n",
              "      <td>-5679.260000</td>\n",
              "      <td>-5636.200000</td>\n",
              "      <td>-5595.490000</td>\n",
              "      <td>974.474</td>\n",
              "      <td>3.80931</td>\n",
              "      <td>1.000620</td>\n",
              "    </tr>\n",
              "    <tr>\n",
              "      <th>mu</th>\n",
              "      <td>-0.018374</td>\n",
              "      <td>0.013676</td>\n",
              "      <td>1.020980</td>\n",
              "      <td>-1.677350</td>\n",
              "      <td>-0.021882</td>\n",
              "      <td>1.650180</td>\n",
              "      <td>5573.720</td>\n",
              "      <td>21.78820</td>\n",
              "      <td>0.999639</td>\n",
              "    </tr>\n",
              "    <tr>\n",
              "      <th>sigma_theta</th>\n",
              "      <td>1.994040</td>\n",
              "      <td>0.002346</td>\n",
              "      <td>0.091265</td>\n",
              "      <td>1.848120</td>\n",
              "      <td>1.991530</td>\n",
              "      <td>2.151640</td>\n",
              "      <td>1513.350</td>\n",
              "      <td>5.91584</td>\n",
              "      <td>1.001110</td>\n",
              "    </tr>\n",
              "    <tr>\n",
              "      <th>sigma_delta</th>\n",
              "      <td>0.872888</td>\n",
              "      <td>0.001572</td>\n",
              "      <td>0.049021</td>\n",
              "      <td>0.794273</td>\n",
              "      <td>0.871882</td>\n",
              "      <td>0.956395</td>\n",
              "      <td>972.827</td>\n",
              "      <td>3.80287</td>\n",
              "      <td>1.001640</td>\n",
              "    </tr>\n",
              "    <tr>\n",
              "      <th>theta[1]</th>\n",
              "      <td>-2.900060</td>\n",
              "      <td>0.012507</td>\n",
              "      <td>0.799056</td>\n",
              "      <td>-4.322610</td>\n",
              "      <td>-2.838710</td>\n",
              "      <td>-1.689460</td>\n",
              "      <td>4081.970</td>\n",
              "      <td>15.95680</td>\n",
              "      <td>1.000740</td>\n",
              "    </tr>\n",
              "    <tr>\n",
              "      <th>...</th>\n",
              "      <td>...</td>\n",
              "      <td>...</td>\n",
              "      <td>...</td>\n",
              "      <td>...</td>\n",
              "      <td>...</td>\n",
              "      <td>...</td>\n",
              "      <td>...</td>\n",
              "      <td>...</td>\n",
              "      <td>...</td>\n",
              "    </tr>\n",
              "    <tr>\n",
              "      <th>delta[433]</th>\n",
              "      <td>-0.292742</td>\n",
              "      <td>0.005331</td>\n",
              "      <td>0.355262</td>\n",
              "      <td>-0.878330</td>\n",
              "      <td>-0.300504</td>\n",
              "      <td>0.304796</td>\n",
              "      <td>4440.450</td>\n",
              "      <td>17.35810</td>\n",
              "      <td>0.999877</td>\n",
              "    </tr>\n",
              "    <tr>\n",
              "      <th>delta[434]</th>\n",
              "      <td>0.214229</td>\n",
              "      <td>0.005013</td>\n",
              "      <td>0.359587</td>\n",
              "      <td>-0.380022</td>\n",
              "      <td>0.217208</td>\n",
              "      <td>0.800408</td>\n",
              "      <td>5145.810</td>\n",
              "      <td>20.11550</td>\n",
              "      <td>1.000100</td>\n",
              "    </tr>\n",
              "    <tr>\n",
              "      <th>delta[435]</th>\n",
              "      <td>-0.021495</td>\n",
              "      <td>0.005051</td>\n",
              "      <td>0.374217</td>\n",
              "      <td>-0.642577</td>\n",
              "      <td>-0.020770</td>\n",
              "      <td>0.606995</td>\n",
              "      <td>5489.670</td>\n",
              "      <td>21.45960</td>\n",
              "      <td>0.999949</td>\n",
              "    </tr>\n",
              "    <tr>\n",
              "      <th>delta[436]</th>\n",
              "      <td>0.613609</td>\n",
              "      <td>0.005638</td>\n",
              "      <td>0.380584</td>\n",
              "      <td>-0.008727</td>\n",
              "      <td>0.607133</td>\n",
              "      <td>1.251060</td>\n",
              "      <td>4557.440</td>\n",
              "      <td>17.81540</td>\n",
              "      <td>0.999413</td>\n",
              "    </tr>\n",
              "    <tr>\n",
              "      <th>delta[437]</th>\n",
              "      <td>1.059740</td>\n",
              "      <td>0.005813</td>\n",
              "      <td>0.413095</td>\n",
              "      <td>0.392908</td>\n",
              "      <td>1.054800</td>\n",
              "      <td>1.748900</td>\n",
              "      <td>5049.300</td>\n",
              "      <td>19.73820</td>\n",
              "      <td>0.999554</td>\n",
              "    </tr>\n",
              "  </tbody>\n",
              "</table>\n",
              "<p>936 rows × 9 columns</p>\n",
              "</div>\n",
              "      <button class=\"colab-df-convert\" onclick=\"convertToInteractive('df-9f448cc2-2487-4ec3-a333-4959df745a8a')\"\n",
              "              title=\"Convert this dataframe to an interactive table.\"\n",
              "              style=\"display:none;\">\n",
              "        \n",
              "  <svg xmlns=\"http://www.w3.org/2000/svg\" height=\"24px\"viewBox=\"0 0 24 24\"\n",
              "       width=\"24px\">\n",
              "    <path d=\"M0 0h24v24H0V0z\" fill=\"none\"/>\n",
              "    <path d=\"M18.56 5.44l.94 2.06.94-2.06 2.06-.94-2.06-.94-.94-2.06-.94 2.06-2.06.94zm-11 1L8.5 8.5l.94-2.06 2.06-.94-2.06-.94L8.5 2.5l-.94 2.06-2.06.94zm10 10l.94 2.06.94-2.06 2.06-.94-2.06-.94-.94-2.06-.94 2.06-2.06.94z\"/><path d=\"M17.41 7.96l-1.37-1.37c-.4-.4-.92-.59-1.43-.59-.52 0-1.04.2-1.43.59L10.3 9.45l-7.72 7.72c-.78.78-.78 2.05 0 2.83L4 21.41c.39.39.9.59 1.41.59.51 0 1.02-.2 1.41-.59l7.78-7.78 2.81-2.81c.8-.78.8-2.07 0-2.86zM5.41 20L4 18.59l7.72-7.72 1.47 1.35L5.41 20z\"/>\n",
              "  </svg>\n",
              "      </button>\n",
              "      \n",
              "  <style>\n",
              "    .colab-df-container {\n",
              "      display:flex;\n",
              "      flex-wrap:wrap;\n",
              "      gap: 12px;\n",
              "    }\n",
              "\n",
              "    .colab-df-convert {\n",
              "      background-color: #E8F0FE;\n",
              "      border: none;\n",
              "      border-radius: 50%;\n",
              "      cursor: pointer;\n",
              "      display: none;\n",
              "      fill: #1967D2;\n",
              "      height: 32px;\n",
              "      padding: 0 0 0 0;\n",
              "      width: 32px;\n",
              "    }\n",
              "\n",
              "    .colab-df-convert:hover {\n",
              "      background-color: #E2EBFA;\n",
              "      box-shadow: 0px 1px 2px rgba(60, 64, 67, 0.3), 0px 1px 3px 1px rgba(60, 64, 67, 0.15);\n",
              "      fill: #174EA6;\n",
              "    }\n",
              "\n",
              "    [theme=dark] .colab-df-convert {\n",
              "      background-color: #3B4455;\n",
              "      fill: #D2E3FC;\n",
              "    }\n",
              "\n",
              "    [theme=dark] .colab-df-convert:hover {\n",
              "      background-color: #434B5C;\n",
              "      box-shadow: 0px 1px 3px 1px rgba(0, 0, 0, 0.15);\n",
              "      filter: drop-shadow(0px 1px 2px rgba(0, 0, 0, 0.3));\n",
              "      fill: #FFFFFF;\n",
              "    }\n",
              "  </style>\n",
              "\n",
              "      <script>\n",
              "        const buttonEl =\n",
              "          document.querySelector('#df-9f448cc2-2487-4ec3-a333-4959df745a8a button.colab-df-convert');\n",
              "        buttonEl.style.display =\n",
              "          google.colab.kernel.accessAllowed ? 'block' : 'none';\n",
              "\n",
              "        async function convertToInteractive(key) {\n",
              "          const element = document.querySelector('#df-9f448cc2-2487-4ec3-a333-4959df745a8a');\n",
              "          const dataTable =\n",
              "            await google.colab.kernel.invokeFunction('convertToInteractive',\n",
              "                                                     [key], {});\n",
              "          if (!dataTable) return;\n",
              "\n",
              "          const docLinkHtml = 'Like what you see? Visit the ' +\n",
              "            '<a target=\"_blank\" href=https://colab.research.google.com/notebooks/data_table.ipynb>data table notebook</a>'\n",
              "            + ' to learn more about interactive tables.';\n",
              "          element.innerHTML = '';\n",
              "          dataTable['output_type'] = 'display_data';\n",
              "          await google.colab.output.renderOutput(dataTable, element);\n",
              "          const docLink = document.createElement('div');\n",
              "          docLink.innerHTML = docLinkHtml;\n",
              "          element.appendChild(docLink);\n",
              "        }\n",
              "      </script>\n",
              "    </div>\n",
              "  </div>\n",
              "  "
            ]
          },
          "metadata": {},
          "execution_count": 22
        }
      ]
    },
    {
      "cell_type": "markdown",
      "source": [
        "Edit `irt4ancn.stan` to try different models. Ask Ashley for help with the syntax! Handy distributions include:\n",
        "\n",
        "*   `~ std_normal()` for a standard normal (or half-normal) distribution\n",
        "*   `~ normal(mu, sigma)` for a normal distribution with specified mean and standard deviation\n",
        "*   `~ bernoulli(p)` for a Bernoulli distribution parameterised by the probability of success\n",
        "*   `~ bernoulli(z)` for a Bernoulli distribution parameterised by the inverse logistic function of the probability of success\n",
        "\n"
      ],
      "metadata": {
        "id": "aiqRafBuW4ek"
      }
    },
    {
      "cell_type": "markdown",
      "source": [
        "The full 4PL IRT model looks like this:\n",
        "\n",
        "$\\mathrm{P}[x_{ni} = 1] = \\gamma_i + (\\zeta_i - \\gamma_i) \\frac{\\mathrm{e}^{\\alpha_i(\\theta_n - \\delta_i)}}{1 + \\mathrm{e}^{\\alpha_i(\\theta_n - \\delta_i)}}$\n",
        "\n",
        "*   For the 3PL, $\\zeta$ is fixed to 1.\n",
        "*   For the 2PL, $\\zeta$ is fixed to 1 and $\\gamma$ is fixed to 0.\n",
        "*   For the 1PL (Rasch model), $\\zeta$ is fixed to 1, $\\gamma$ is fixed to 0, and $\\alpha$ is fixed to 1.\n",
        "\n",
        "Don't forget to add priors as you add more parameters!\n",
        "\n",
        "**WARNING**: In the 2PL, 3PL, and 4PL, $\\theta$ needs to be distributed as a standard normal distribution and there can be no hyper-parameter $\\sigma_\\theta$. Otherwise, the model is not identified, and Stan will run into many problems while sampling.\n"
      ],
      "metadata": {
        "id": "sNDqrfjzX5ud"
      }
    },
    {
      "cell_type": "markdown",
      "source": [
        "## Assignment"
      ],
      "metadata": {
        "id": "s4NLzTW_PGaR"
      }
    },
    {
      "cell_type": "markdown",
      "source": [
        "1.   Explore 1-, 2-, 3- and 4-parameter IRT models for the Hooked on Music data according to the template. Which segments are most difficult? Which are easiest? Most/least discriminating? Are the guessing parameters what you would expect?\n",
        "2.   Explore an alternative data model (e.g., using `rec_only.json` or focussing on `is_recognised` instead of `is_verified`), again with 1-, 2-, 3- and 4-parameter IRT models. How do your results compare to what you found in Step 1\n",
        "3.   (Optional) Expand one of your models to include a regression on audio features recognition time, or Goldsmith's music sophistication to predict difficulty and ability.\n",
        "\n",
        "Write a short report (250–500 words) summarising your findings and (to the extent you can) any musical explanations or surprising findings based on what you can hear in the songs."
      ],
      "metadata": {
        "id": "iVz5tgVATDQl"
      }
    },
    {
      "cell_type": "markdown",
      "source": [
        "## Additional Resources"
      ],
      "metadata": {
        "id": "shazGclJUbsj"
      }
    },
    {
      "cell_type": "markdown",
      "source": [
        "\n",
        "\n",
        "*   The `cmdstanpy` [documentation](https://cmdstanpy.readthedocs.io/en/v1.0.7/)\n",
        "*   The Stan [User’s Guide](https://mc-stan.org/docs/stan-users-guide/index.html])\n",
        "\n"
      ],
      "metadata": {
        "id": "XVxE_YCwUex8"
      }
    }
  ]
}
